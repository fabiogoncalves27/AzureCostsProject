{
 "cells": [
  {
   "cell_type": "markdown",
   "metadata": {
    "application/vnd.databricks.v1+cell": {
     "cellMetadata": {
      "byteLimit": 2048000,
      "rowLimit": 10000
     },
     "inputWidgets": {},
     "nuid": "8c7ff47d-9a2e-4272-809c-72055b464021",
     "showTitle": false,
     "tableResultSettingsMap": {},
     "title": ""
    }
   },
   "source": [
    "# Imports and Variables"
   ]
  },
  {
   "cell_type": "code",
   "execution_count": 0,
   "metadata": {
    "application/vnd.databricks.v1+cell": {
     "cellMetadata": {
      "byteLimit": 2048000,
      "rowLimit": 10000
     },
     "inputWidgets": {},
     "nuid": "ab7b96ba-eaab-455d-8de2-97ce133f35e3",
     "showTitle": false,
     "tableResultSettingsMap": {},
     "title": ""
    }
   },
   "outputs": [],
   "source": [
    "import json\n",
    "from pyspark.sql import *\n",
    "from pyspark.sql.functions import *\n",
    "from pyspark.sql.functions import explode"
   ]
  },
  {
   "cell_type": "markdown",
   "metadata": {
    "application/vnd.databricks.v1+cell": {
     "cellMetadata": {
      "byteLimit": 2048000,
      "rowLimit": 10000
     },
     "inputWidgets": {},
     "nuid": "e5833b2d-14c7-4b6c-aced-3c176d01c362",
     "showTitle": false,
     "tableResultSettingsMap": {},
     "title": ""
    }
   },
   "source": [
    "# Function Definition"
   ]
  },
  {
   "cell_type": "code",
   "execution_count": 0,
   "metadata": {
    "application/vnd.databricks.v1+cell": {
     "cellMetadata": {
      "byteLimit": 2048000,
      "rowLimit": 10000
     },
     "inputWidgets": {},
     "nuid": "753882dd-f18d-4867-b3d3-e86e85bf5c8f",
     "showTitle": false,
     "tableResultSettingsMap": {},
     "title": ""
    }
   },
   "outputs": [],
   "source": [
    "def updateSilverTable(table_name, columns_to_extract, columns_alias, MonthYear, recent_dataframe):\n",
    "\n",
    "    if recent_dataframe.count() > 0:\n",
    "        # Select all the columns within the bronze columns\n",
    "        temp_df = recent_dataframe.select(columns_to_extract.split(\",\"))\n",
    "\n",
    "        clm_paths = columns_to_extract.split(\",\")\n",
    "        clm_alias = columns_alias.split(\",\")\n",
    "        temp_df = temp_df.select(*[col(clm_paths[idx]).alias(clm_alias[idx]) for idx in range(len(clm_paths))])\n",
    "\n",
    "        #display(temp_df)\n",
    "\n",
    "        # Treat Multiple Merge Columns\n",
    "        #merge_keys = columns_condition_source.split(\",\")\n",
    "\n",
    "        #if len(merge_keys) > 1:\n",
    "        #    columns_condition_source = \"pk_MergeColumn\"\n",
    "        #    temp_df = temp_df.withColumn(columns_condition_source, concat_ws(\",\", array(*merge_keys)))\n",
    "        #    temp_df = temp_df.withColumn(columns_condition_source, sha2(col(columns_condition_source), 256))\n",
    "        \n",
    "\n",
    "        # Creates Temporary View of Latest Bronze Records for a given table \"table_name\"\n",
    "        temp_df.createOrReplaceTempView(\"vw_LatestBronzeRecords\")\n",
    "        \n",
    "        spark.sql(f\"DELETE FROM silver.{table_name} WHERE LastExtractionMonth={MonthYear}\")\n",
    "\n",
    "        spark.sql(f\"INSERT INTO silver.{table_name} SELECT * FROM vw_LatestBronzeRecords\")\n",
    "\n",
    "        # Update Integration Control LastExtractionDate\n",
    "        spark.sql(f\"UPDATE control.integrationcontrolcosts SET LastExtractionDate = (SELECT MAX(DISTINCT LastExtractionDate) FROM vw_LatestBronzeRecords) WHERE control.integrationcontrolcosts.TableName LIKE '{table_name}' and Silver=1\")\n",
    "        \n",
    "        return 0"
   ]
  },
  {
   "cell_type": "markdown",
   "metadata": {
    "application/vnd.databricks.v1+cell": {
     "cellMetadata": {
      "byteLimit": 2048000,
      "rowLimit": 10000
     },
     "inputWidgets": {},
     "nuid": "10d4c4e0-a05b-4d67-bc81-c41abc7cc07d",
     "showTitle": false,
     "tableResultSettingsMap": {},
     "title": ""
    }
   },
   "source": [
    "# Getting the elements to the extracted from the control table"
   ]
  },
  {
   "cell_type": "code",
   "execution_count": 0,
   "metadata": {
    "application/vnd.databricks.v1+cell": {
     "cellMetadata": {
      "byteLimit": 2048000,
      "rowLimit": 10000
     },
     "inputWidgets": {},
     "nuid": "edc5e904-03c2-429e-a987-aab9fa83cb77",
     "showTitle": false,
     "tableResultSettingsMap": {},
     "title": ""
    }
   },
   "outputs": [
    {
     "output_type": "display_data",
     "data": {
      "text/html": [
       "<style scoped>\n",
       "  .table-result-container {\n",
       "    max-height: 300px;\n",
       "    overflow: auto;\n",
       "  }\n",
       "  table, th, td {\n",
       "    border: 1px solid black;\n",
       "    border-collapse: collapse;\n",
       "  }\n",
       "  th, td {\n",
       "    padding: 5px;\n",
       "  }\n",
       "  th {\n",
       "    text-align: left;\n",
       "  }\n",
       "</style><div class='table-result-container'><table class='table-result'><thead style='background-color: white'><tr><th>TableName</th><th>ColumnsToExtract</th><th>ColumnsAlias</th><th>LastExtractionDate</th></tr></thead><tbody><tr><td>azure_costs_2</td><td>DepartmentName,AccountName,AccountOwnerId,SubscriptionGuid,SubscriptionName,ResourceGroup,ResourceLocation,AvailabilityZone,UsageDateTime,ProductName,MeterCategory,MeterSubcategory,MeterId,MeterName,MeterRegion,UnitOfMeasure,UsageQuantity,ResourceRate,PreTaxCost,CostCenter,ConsumedService,ResourceType,InstanceId,Tags,OfferId,AdditionalInfo,ServiceInfo1,ServiceInfo2,Currency,FilePath,LastExtractionDate,LastExtractionMonth</td><td>DepartmentName,AccountName,AccountOwnerId,SubscriptionGuid,SubscriptionName,ResourceGroup,ResourceLocation,AvailabilityZone,UsageDateTime,ProductName,MeterCategory,MeterSubcategory,MeterId,MeterName,MeterRegion,UnitOfMeasure,UsageQuantity,ResourceRate,PreTaxCost,CostCenter,ConsumedService,ResourceType,InstanceId,Tags,OfferId,AdditionalInfo,ServiceInfo1,ServiceInfo2,Currency,FilePath,LastExtractionDate,LastExtractionMonth</td><td>2025-02-02T01:56:28Z</td></tr></tbody></table></div>"
      ]
     },
     "metadata": {
      "application/vnd.databricks.v1+output": {
       "addedWidgets": {},
       "aggData": [],
       "aggError": "",
       "aggOverflow": false,
       "aggSchema": [],
       "aggSeriesLimitReached": false,
       "aggType": "",
       "arguments": {},
       "columnCustomDisplayInfos": {},
       "data": [
        [
         "azure_costs_2",
         "DepartmentName,AccountName,AccountOwnerId,SubscriptionGuid,SubscriptionName,ResourceGroup,ResourceLocation,AvailabilityZone,UsageDateTime,ProductName,MeterCategory,MeterSubcategory,MeterId,MeterName,MeterRegion,UnitOfMeasure,UsageQuantity,ResourceRate,PreTaxCost,CostCenter,ConsumedService,ResourceType,InstanceId,Tags,OfferId,AdditionalInfo,ServiceInfo1,ServiceInfo2,Currency,FilePath,LastExtractionDate,LastExtractionMonth",
         "DepartmentName,AccountName,AccountOwnerId,SubscriptionGuid,SubscriptionName,ResourceGroup,ResourceLocation,AvailabilityZone,UsageDateTime,ProductName,MeterCategory,MeterSubcategory,MeterId,MeterName,MeterRegion,UnitOfMeasure,UsageQuantity,ResourceRate,PreTaxCost,CostCenter,ConsumedService,ResourceType,InstanceId,Tags,OfferId,AdditionalInfo,ServiceInfo1,ServiceInfo2,Currency,FilePath,LastExtractionDate,LastExtractionMonth",
         "2025-02-02T01:56:28Z"
        ]
       ],
       "datasetInfos": [],
       "dbfsResultPath": null,
       "isJsonSchema": true,
       "metadata": {},
       "overflow": false,
       "plotOptions": {
        "customPlotOptions": {},
        "displayType": "table",
        "pivotAggregation": null,
        "pivotColumns": null,
        "xColumns": null,
        "yColumns": null
       },
       "removedWidgets": [],
       "schema": [
        {
         "metadata": "{}",
         "name": "TableName",
         "type": "\"string\""
        },
        {
         "metadata": "{}",
         "name": "ColumnsToExtract",
         "type": "\"string\""
        },
        {
         "metadata": "{}",
         "name": "ColumnsAlias",
         "type": "\"string\""
        },
        {
         "metadata": "{}",
         "name": "LastExtractionDate",
         "type": "\"timestamp\""
        }
       ],
       "type": "table"
      }
     },
     "output_type": "display_data"
    }
   ],
   "source": [
    "tables_to_extract = spark.sql(\"SELECT TableName, ColumnsToExtract, ColumnsAlias, LastExtractionDate FROM control.integrationcontrolcosts WHERE Active = 1 AND Silver = 1 ORDER BY TableName ASC\").cache()\n",
    "display(tables_to_extract)"
   ]
  },
  {
   "cell_type": "code",
   "execution_count": 0,
   "metadata": {
    "application/vnd.databricks.v1+cell": {
     "cellMetadata": {
      "byteLimit": 2048000,
      "rowLimit": 10000
     },
     "inputWidgets": {},
     "nuid": "c1e9fc5d-867a-4280-8d15-211aaffc91dd",
     "showTitle": false,
     "tableResultSettingsMap": {},
     "title": ""
    }
   },
   "outputs": [],
   "source": []
  },
  {
   "cell_type": "markdown",
   "metadata": {
    "application/vnd.databricks.v1+cell": {
     "cellMetadata": {
      "byteLimit": 2048000,
      "rowLimit": 10000
     },
     "inputWidgets": {},
     "nuid": "63ca0d6d-5ad5-43e0-8d81-5c605a982e20",
     "showTitle": false,
     "tableResultSettingsMap": {},
     "title": ""
    }
   },
   "source": [
    "# Explode Bronze Tables \"Values\" into a Silver Table"
   ]
  },
  {
   "cell_type": "code",
   "execution_count": 0,
   "metadata": {
    "application/vnd.databricks.v1+cell": {
     "cellMetadata": {
      "byteLimit": 2048000,
      "rowLimit": 10000
     },
     "inputWidgets": {},
     "nuid": "e6db9c52-c24b-4fdb-af7f-2c4237a7095e",
     "showTitle": false,
     "tableResultSettingsMap": {},
     "title": ""
    }
   },
   "outputs": [],
   "source": [
    "\n",
    "for table in tables_to_extract.collect():\n",
    "     month_to_extract = spark.sql(\n",
    "         f\"SELECT DISTINCT LastExtractionMonth FROM bronze.{table['TableName']} WHERE LastExtractionDate > '{table['LastExtractionDate']}'\"\n",
    "     )\n",
    "     #print(month_to_extract)\n",
    "\n",
    "     for month in month_to_extract.collect():\n",
    "         # Extracts the most recent entries in the Bronze table\n",
    "         recent_entries = spark.sql(\n",
    "             f\"SELECT * FROM bronze.{table['TableName']} WHERE LastExtractionMonth = '{month['LastExtractionMonth']}' AND LastExtractionDate = (SELECT MAX(LastExtractionDate) FROM bronze.{table['TableName']} WHERE LastExtractionMonth = '{month['LastExtractionMonth']}')\"\n",
    "         )\n",
    "\n",
    "#          Updates Silver Layer Tables with the Latest Bronze Records\n",
    "         tn = updateSilverTable(\n",
    "             table['TableName'],\n",
    "             table['ColumnsToExtract'],\n",
    "             table['ColumnsAlias'],\n",
    "             month['LastExtractionMonth'],\n",
    "             recent_entries\n",
    "         )\n",
    "\n",
    "#         display(recent_entries)"
   ]
  },
  {
   "cell_type": "code",
   "execution_count": 0,
   "metadata": {
    "application/vnd.databricks.v1+cell": {
     "cellMetadata": {
      "byteLimit": 2048000,
      "implicitDf": true,
      "rowLimit": 10000
     },
     "inputWidgets": {},
     "nuid": "f1de0143-5a21-43a6-9a9f-7e3082433f74",
     "showTitle": false,
     "tableResultSettingsMap": {},
     "title": ""
    }
   },
   "outputs": [
    {
     "output_type": "display_data",
     "data": {
      "text/html": [
       "<style scoped>\n",
       "  .table-result-container {\n",
       "    max-height: 300px;\n",
       "    overflow: auto;\n",
       "  }\n",
       "  table, th, td {\n",
       "    border: 1px solid black;\n",
       "    border-collapse: collapse;\n",
       "  }\n",
       "  th, td {\n",
       "    padding: 5px;\n",
       "  }\n",
       "  th {\n",
       "    text-align: left;\n",
       "  }\n",
       "</style><div class='table-result-container'><table class='table-result'><thead style='background-color: white'><tr><th>filepath</th><th>lastExtractiondate</th><th>lastextractionmonth</th></tr></thead><tbody><tr><td>abfss://costs@enxpowerbidatalakeqa.dfs.core.windows.net/powerbi-costs/enxcf-CF_Subscription_Costs/20250101-20250131/enxcf-CF_Subscription_Costs_308e1884-6ed9-4823-bd81-cd59140c5dd9.csv</td><td>2025-02-03T01:58:09Z</td><td>202501</td></tr><tr><td>abfss://costs@enxpowerbidatalakeqa.dfs.core.windows.net/powerbi-costs/enxcf-CF_Subscription_Costs/20250201-20250228/enxcf-CF_Subscription_Costs_752b65e9-3e08-49e2-a7b4-54d38fbc5512.csv</td><td>2025-02-03T01:57:18Z</td><td>202502</td></tr><tr><td>abfss://costs@enxpowerbidatalakeqa.dfs.core.windows.net/powerbi-costs/powerbi-costs/20241101-20241130/nov2024</td><td>2025-01-12T14:57:38Z</td><td>202411</td></tr><tr><td>abfss://costs@enxpowerbidatalakeqa.dfs.core.windows.net/powerbi-costs/powerbi-costs/20241201-20241231/dez2024</td><td>2025-01-10T17:00:53Z</td><td>202412</td></tr><tr><td>abfss://costs@enxpowerbidatalakeqa.dfs.core.windows.net/powerbi-costs/powerbi-costs/20240501-20240531/powerbi-costs_may2024.csv</td><td>2024-12-02T14:39:26Z</td><td>202405</td></tr><tr><td>abfss://costs@enxpowerbidatalakeqa.dfs.core.windows.net/powerbi-costs/powerbi-costs/20240301-20240331/powerbi-costs_mar2024.csv</td><td>2024-12-02T14:39:08Z</td><td>202403</td></tr><tr><td>abfss://costs@enxpowerbidatalakeqa.dfs.core.windows.net/powerbi-costs/powerbi-costs/20240601-20240630/powerbi-costs_jun2024.csv</td><td>2024-12-02T14:38:52Z</td><td>202406</td></tr><tr><td>abfss://costs@enxpowerbidatalakeqa.dfs.core.windows.net/powerbi-costs/powerbi-costs/20240701-20240731/powerbi-costs_jul2024.csv</td><td>2024-12-02T14:38:22Z</td><td>202407</td></tr><tr><td>abfss://costs@enxpowerbidatalakeqa.dfs.core.windows.net/powerbi-costs/powerbi-costs/20240201-20240229/powerbi-costs_feb2024.csv</td><td>2024-12-02T14:37:39Z</td><td>202402</td></tr><tr><td>abfss://costs@enxpowerbidatalakeqa.dfs.core.windows.net/powerbi-costs/powerbi-costs/20240801-20240831/powerbi-costs_ago2024.csv</td><td>2024-12-02T14:37:13Z</td><td>202408</td></tr><tr><td>abfss://costs@enxpowerbidatalakeqa.dfs.core.windows.net/powerbi-costs/powerbi-costs/20240401-20240430/powerbi-costs_abril2024.csv</td><td>2024-12-02T14:36:56Z</td><td>202404</td></tr><tr><td>abfss://costs@enxpowerbidatalakeqa.dfs.core.windows.net/powerbi-costs/powerbi-costs/20231101-20231130/powerbi-costs-november2023.csv</td><td>2024-12-02T14:36:28Z</td><td>202311</td></tr><tr><td>abfss://costs@enxpowerbidatalakeqa.dfs.core.windows.net/powerbi-costs/powerbi-costs/20240101-20240131/powerbi-costs_jan2024.csv</td><td>2024-12-02T14:35:11Z</td><td>202401</td></tr><tr><td>abfss://costs@enxpowerbidatalakeqa.dfs.core.windows.net/powerbi-costs/powerbi-costs/20231201-20231231/powebi-costs-December2023.csv</td><td>2024-12-02T14:34:23Z</td><td>202312</td></tr><tr><td>abfss://costs@enxpowerbidatalakeqa.dfs.core.windows.net/powerbi-costs/powerbi-costs/20240901-20240930/powerbi-costs_september.csv</td><td>2024-11-12T13:56:45Z</td><td>202409</td></tr><tr><td>abfss://costs@enxpowerbidatalakeqa.dfs.core.windows.net/powerbi-costs/powerbi-costs/20241001-20241031/powerbi-costs_October.csv</td><td>2024-11-12T13:56:21Z</td><td>202410</td></tr></tbody></table></div>"
      ]
     },
     "metadata": {
      "application/vnd.databricks.v1+output": {
       "addedWidgets": {},
       "aggData": [],
       "aggError": "",
       "aggOverflow": false,
       "aggSchema": [],
       "aggSeriesLimitReached": false,
       "aggType": "",
       "arguments": {},
       "columnCustomDisplayInfos": {},
       "data": [
        [
         "abfss://costs@enxpowerbidatalakeqa.dfs.core.windows.net/powerbi-costs/enxcf-CF_Subscription_Costs/20250101-20250131/enxcf-CF_Subscription_Costs_308e1884-6ed9-4823-bd81-cd59140c5dd9.csv",
         "2025-02-03T01:58:09Z",
         "202501"
        ],
        [
         "abfss://costs@enxpowerbidatalakeqa.dfs.core.windows.net/powerbi-costs/enxcf-CF_Subscription_Costs/20250201-20250228/enxcf-CF_Subscription_Costs_752b65e9-3e08-49e2-a7b4-54d38fbc5512.csv",
         "2025-02-03T01:57:18Z",
         "202502"
        ],
        [
         "abfss://costs@enxpowerbidatalakeqa.dfs.core.windows.net/powerbi-costs/powerbi-costs/20241101-20241130/nov2024",
         "2025-01-12T14:57:38Z",
         "202411"
        ],
        [
         "abfss://costs@enxpowerbidatalakeqa.dfs.core.windows.net/powerbi-costs/powerbi-costs/20241201-20241231/dez2024",
         "2025-01-10T17:00:53Z",
         "202412"
        ],
        [
         "abfss://costs@enxpowerbidatalakeqa.dfs.core.windows.net/powerbi-costs/powerbi-costs/20240501-20240531/powerbi-costs_may2024.csv",
         "2024-12-02T14:39:26Z",
         "202405"
        ],
        [
         "abfss://costs@enxpowerbidatalakeqa.dfs.core.windows.net/powerbi-costs/powerbi-costs/20240301-20240331/powerbi-costs_mar2024.csv",
         "2024-12-02T14:39:08Z",
         "202403"
        ],
        [
         "abfss://costs@enxpowerbidatalakeqa.dfs.core.windows.net/powerbi-costs/powerbi-costs/20240601-20240630/powerbi-costs_jun2024.csv",
         "2024-12-02T14:38:52Z",
         "202406"
        ],
        [
         "abfss://costs@enxpowerbidatalakeqa.dfs.core.windows.net/powerbi-costs/powerbi-costs/20240701-20240731/powerbi-costs_jul2024.csv",
         "2024-12-02T14:38:22Z",
         "202407"
        ],
        [
         "abfss://costs@enxpowerbidatalakeqa.dfs.core.windows.net/powerbi-costs/powerbi-costs/20240201-20240229/powerbi-costs_feb2024.csv",
         "2024-12-02T14:37:39Z",
         "202402"
        ],
        [
         "abfss://costs@enxpowerbidatalakeqa.dfs.core.windows.net/powerbi-costs/powerbi-costs/20240801-20240831/powerbi-costs_ago2024.csv",
         "2024-12-02T14:37:13Z",
         "202408"
        ],
        [
         "abfss://costs@enxpowerbidatalakeqa.dfs.core.windows.net/powerbi-costs/powerbi-costs/20240401-20240430/powerbi-costs_abril2024.csv",
         "2024-12-02T14:36:56Z",
         "202404"
        ],
        [
         "abfss://costs@enxpowerbidatalakeqa.dfs.core.windows.net/powerbi-costs/powerbi-costs/20231101-20231130/powerbi-costs-november2023.csv",
         "2024-12-02T14:36:28Z",
         "202311"
        ],
        [
         "abfss://costs@enxpowerbidatalakeqa.dfs.core.windows.net/powerbi-costs/powerbi-costs/20240101-20240131/powerbi-costs_jan2024.csv",
         "2024-12-02T14:35:11Z",
         "202401"
        ],
        [
         "abfss://costs@enxpowerbidatalakeqa.dfs.core.windows.net/powerbi-costs/powerbi-costs/20231201-20231231/powebi-costs-December2023.csv",
         "2024-12-02T14:34:23Z",
         "202312"
        ],
        [
         "abfss://costs@enxpowerbidatalakeqa.dfs.core.windows.net/powerbi-costs/powerbi-costs/20240901-20240930/powerbi-costs_september.csv",
         "2024-11-12T13:56:45Z",
         "202409"
        ],
        [
         "abfss://costs@enxpowerbidatalakeqa.dfs.core.windows.net/powerbi-costs/powerbi-costs/20241001-20241031/powerbi-costs_October.csv",
         "2024-11-12T13:56:21Z",
         "202410"
        ]
       ],
       "datasetInfos": [],
       "dbfsResultPath": null,
       "isJsonSchema": true,
       "metadata": {
        "dataframeName": "_sqldf",
        "executionCount": 5
       },
       "overflow": false,
       "plotOptions": {
        "customPlotOptions": {},
        "displayType": "table",
        "pivotAggregation": null,
        "pivotColumns": null,
        "xColumns": null,
        "yColumns": null
       },
       "removedWidgets": [],
       "schema": [
        {
         "metadata": "{}",
         "name": "filepath",
         "type": "\"string\""
        },
        {
         "metadata": "{}",
         "name": "lastExtractiondate",
         "type": "\"timestamp\""
        },
        {
         "metadata": "{}",
         "name": "lastextractionmonth",
         "type": "\"string\""
        }
       ],
       "type": "table"
      }
     },
     "output_type": "display_data"
    }
   ],
   "source": [
    "%sql\n",
    "select distinct filepath, lastExtractiondate, lastextractionmonth from silver.azure_costs_2 order by lastExtractiondate desc"
   ]
  }
 ],
 "metadata": {
  "application/vnd.databricks.v1+notebook": {
   "computePreferences": null,
   "dashboards": [],
   "environmentMetadata": {
    "base_environment": "",
    "environment_version": "1"
   },
   "language": "python",
   "notebookMetadata": {
    "mostRecentlyExecutedCommandWithImplicitDF": {
     "commandId": 6382601381293396,
     "dataframes": [
      "_sqldf"
     ]
    },
    "pythonIndentUnit": 4
   },
   "notebookName": "Explode Tables to Silver Layer",
   "widgets": {
    "FileSystemName": {
     "currentValue": "costs",
     "nuid": "25276aae-dd1f-4c91-8bd6-28f763e3e50e",
     "typedWidgetInfo": {
      "autoCreated": false,
      "defaultValue": "costs",
      "label": "The name of the file system within the storage account.",
      "name": "FileSystemName",
      "options": {
       "widgetDisplayType": "Text",
       "validationRegex": null
      },
      "parameterDataType": "String"
     },
     "widgetInfo": {
      "widgetType": "text",
      "defaultValue": "costs",
      "label": "The name of the file system within the storage account.",
      "name": "FileSystemName",
      "options": {
       "widgetType": "text",
       "autoCreated": null,
       "validationRegex": null
      }
     }
    },
    "StorageAccountName": {
     "currentValue": "enxpowerbidatalakeqa",
     "nuid": "a616e12b-7028-41c7-90b0-c3ebda944e55",
     "typedWidgetInfo": {
      "autoCreated": false,
      "defaultValue": "enxpowerbidatalakeqa",
      "label": "The name of the storage account.",
      "name": "StorageAccountName",
      "options": {
       "widgetDisplayType": "Text",
       "validationRegex": null
      },
      "parameterDataType": "String"
     },
     "widgetInfo": {
      "widgetType": "text",
      "defaultValue": "enxpowerbidatalakeqa",
      "label": "The name of the storage account.",
      "name": "StorageAccountName",
      "options": {
       "widgetType": "text",
       "autoCreated": null,
       "validationRegex": null
      }
     }
    }
   }
  },
  "language_info": {
   "name": "python"
  }
 },
 "nbformat": 4,
 "nbformat_minor": 0
}