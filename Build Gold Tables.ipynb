{
 "cells": [
  {
   "cell_type": "markdown",
   "metadata": {
    "application/vnd.databricks.v1+cell": {
     "cellMetadata": {
      "byteLimit": 2048000,
      "rowLimit": 10000
     },
     "inputWidgets": {},
     "nuid": "8c7ff47d-9a2e-4272-809c-72055b464021",
     "showTitle": false,
     "tableResultSettingsMap": {},
     "title": ""
    }
   },
   "source": [
    "# Imports and Variables"
   ]
  },
  {
   "cell_type": "code",
   "execution_count": 0,
   "metadata": {
    "application/vnd.databricks.v1+cell": {
     "cellMetadata": {
      "byteLimit": 2048000,
      "rowLimit": 10000
     },
     "inputWidgets": {},
     "nuid": "ab7b96ba-eaab-455d-8de2-97ce133f35e3",
     "showTitle": false,
     "tableResultSettingsMap": {},
     "title": ""
    }
   },
   "outputs": [],
   "source": [
    "import json\n",
    "from pyspark.sql import *\n",
    "from pyspark.sql.functions import *\n",
    "from pyspark.sql.functions import explode\n",
    "from pyspark.sql.functions import col, to_date, concat_ws, sha2, explode"
   ]
  },
  {
   "cell_type": "markdown",
   "metadata": {
    "application/vnd.databricks.v1+cell": {
     "cellMetadata": {
      "byteLimit": 2048000,
      "rowLimit": 10000
     },
     "inputWidgets": {},
     "nuid": "e5833b2d-14c7-4b6c-aced-3c176d01c362",
     "showTitle": false,
     "tableResultSettingsMap": {},
     "title": ""
    }
   },
   "source": [
    "# Function Definition"
   ]
  },
  {
   "cell_type": "code",
   "execution_count": 0,
   "metadata": {
    "application/vnd.databricks.v1+cell": {
     "cellMetadata": {
      "byteLimit": 2048000,
      "rowLimit": 10000
     },
     "inputWidgets": {},
     "nuid": "fcb0c1d7-ce1d-4546-b8f3-50d912b0d414",
     "showTitle": false,
     "tableResultSettingsMap": {},
     "title": ""
    }
   },
   "outputs": [],
   "source": [
    "def updateGoldTable(table_name, columns_to_extract, columns_alias, MonthYear, recent_dataframe):\n",
    "\n",
    "    if recent_dataframe.count() > 0:\n",
    "        # Select all the columns within the bronze columns\n",
    "        #temp_df = recent_dataframe.select(columns_to_extract.split(\",\"))\n",
    "#\n",
    "        #clm_paths = columns_to_extract.split(\",\")\n",
    "        #clm_alias = columns_alias.split(\",\")\n",
    "        #temp_df = temp_df.select(*[col(clm_paths[idx]).alias(clm_alias[idx]) for idx in range(len(clm_paths))])\n",
    "\n",
    "        temp_df = recent_dataframe\n",
    "        \n",
    "        temp_df.createOrReplaceTempView(\"vw_LatestSilverRecords\")\n",
    "        \n",
    "        spark.sql(f\"DELETE FROM gold.{table_name} WHERE LastExtractionMonth={MonthYear}\")\n",
    "\n",
    "        spark.sql(f\"INSERT INTO gold.{table_name} SELECT * FROM vw_LatestSilverRecords\")\n",
    "\n",
    "        # Update Integration Control LastExtractionDate\n",
    "        spark.sql(f\"UPDATE control.integrationcontrolcosts SET LastExtractionDate = (SELECT MAX(DISTINCT LastExtractionDate) FROM vw_LatestSilverRecords) WHERE control.integrationcontrolcosts.TableName LIKE '{table_name}' and Gold=1\")\n",
    "        \n",
    "        return 0"
   ]
  },
  {
   "cell_type": "markdown",
   "metadata": {
    "application/vnd.databricks.v1+cell": {
     "cellMetadata": {
      "byteLimit": 2048000,
      "rowLimit": 10000
     },
     "inputWidgets": {},
     "nuid": "10d4c4e0-a05b-4d67-bc81-c41abc7cc07d",
     "showTitle": false,
     "tableResultSettingsMap": {},
     "title": ""
    }
   },
   "source": [
    "# Getting the elements to the extracted from the control table"
   ]
  },
  {
   "cell_type": "code",
   "execution_count": 0,
   "metadata": {
    "application/vnd.databricks.v1+cell": {
     "cellMetadata": {
      "byteLimit": 2048000,
      "rowLimit": 10000
     },
     "inputWidgets": {},
     "nuid": "edc5e904-03c2-429e-a987-aab9fa83cb77",
     "showTitle": false,
     "tableResultSettingsMap": {},
     "title": ""
    }
   },
   "outputs": [
    {
     "output_type": "display_data",
     "data": {
      "text/html": [
       "<style scoped>\n",
       "  .table-result-container {\n",
       "    max-height: 300px;\n",
       "    overflow: auto;\n",
       "  }\n",
       "  table, th, td {\n",
       "    border: 1px solid black;\n",
       "    border-collapse: collapse;\n",
       "  }\n",
       "  th, td {\n",
       "    padding: 5px;\n",
       "  }\n",
       "  th {\n",
       "    text-align: left;\n",
       "  }\n",
       "</style><div class='table-result-container'><table class='table-result'><thead style='background-color: white'><tr><th>TableName</th><th>ColumnsToExtract</th><th>ColumnsAlias</th><th>ColumnsMergeSource</th><th>ColumnsMergeTarget</th><th>LastExtractionDate</th></tr></thead><tbody><tr><td>azure_costs_2</td><td>DepartmentName,AccountName,AccountOwnerId,SubscriptionGuid,SubscriptionName,ResourceGroup,ResourceLocation,AvailabilityZone,UsageDateTime,ProductName,MeterCategory,MeterSubcategory,MeterId,MeterName,MeterRegion,UnitOfMeasure,UsageQuantity,ResourceRate,PreTaxCost,CostCenter,ConsumedService,ResourceType,InstanceId,Tags,OfferId,AdditionalInfo,ServiceInfo1,ServiceInfo2,Currency,FilePath,LastExtractionDate,LastExtractionMonth</td><td>DepartmentName,AccountName,AccountOwnerId,SubscriptionGuid,SubscriptionName,ResourceGroup,ResourceLocation,AvailabilityZone,UsageDateTime,ProductName,MeterCategory,MeterSubcategory,MeterId,MeterName,MeterRegion,UnitOfMeasure,UsageQuantity,ResourceRate,PreTaxCost,CostCenter,ConsumedService,ResourceType,InstanceId,Tags,OfferId,AdditionalInfo,ServiceInfo1,ServiceInfo2,Currency,FilePath,LastExtractionDate,LastExtractionMonth,UniqueID</td><td></td><td></td><td>2025-02-02T01:56:28Z</td></tr></tbody></table></div>"
      ]
     },
     "metadata": {
      "application/vnd.databricks.v1+output": {
       "addedWidgets": {},
       "aggData": [],
       "aggError": "",
       "aggOverflow": false,
       "aggSchema": [],
       "aggSeriesLimitReached": false,
       "aggType": "",
       "arguments": {},
       "columnCustomDisplayInfos": {},
       "data": [
        [
         "azure_costs_2",
         "DepartmentName,AccountName,AccountOwnerId,SubscriptionGuid,SubscriptionName,ResourceGroup,ResourceLocation,AvailabilityZone,UsageDateTime,ProductName,MeterCategory,MeterSubcategory,MeterId,MeterName,MeterRegion,UnitOfMeasure,UsageQuantity,ResourceRate,PreTaxCost,CostCenter,ConsumedService,ResourceType,InstanceId,Tags,OfferId,AdditionalInfo,ServiceInfo1,ServiceInfo2,Currency,FilePath,LastExtractionDate,LastExtractionMonth",
         "DepartmentName,AccountName,AccountOwnerId,SubscriptionGuid,SubscriptionName,ResourceGroup,ResourceLocation,AvailabilityZone,UsageDateTime,ProductName,MeterCategory,MeterSubcategory,MeterId,MeterName,MeterRegion,UnitOfMeasure,UsageQuantity,ResourceRate,PreTaxCost,CostCenter,ConsumedService,ResourceType,InstanceId,Tags,OfferId,AdditionalInfo,ServiceInfo1,ServiceInfo2,Currency,FilePath,LastExtractionDate,LastExtractionMonth,UniqueID",
         "",
         "",
         "2025-02-02T01:56:28Z"
        ]
       ],
       "datasetInfos": [],
       "dbfsResultPath": null,
       "isJsonSchema": true,
       "metadata": {},
       "overflow": false,
       "plotOptions": {
        "customPlotOptions": {},
        "displayType": "table",
        "pivotAggregation": null,
        "pivotColumns": null,
        "xColumns": null,
        "yColumns": null
       },
       "removedWidgets": [],
       "schema": [
        {
         "metadata": "{}",
         "name": "TableName",
         "type": "\"string\""
        },
        {
         "metadata": "{}",
         "name": "ColumnsToExtract",
         "type": "\"string\""
        },
        {
         "metadata": "{}",
         "name": "ColumnsAlias",
         "type": "\"string\""
        },
        {
         "metadata": "{}",
         "name": "ColumnsMergeSource",
         "type": "\"string\""
        },
        {
         "metadata": "{}",
         "name": "ColumnsMergeTarget",
         "type": "\"string\""
        },
        {
         "metadata": "{}",
         "name": "LastExtractionDate",
         "type": "\"timestamp\""
        }
       ],
       "type": "table"
      }
     },
     "output_type": "display_data"
    }
   ],
   "source": [
    "tables_to_extract = spark.sql(\"SELECT TableName, ColumnsToExtract, ColumnsAlias, ColumnsMergeSource, ColumnsMergeTarget, LastExtractionDate FROM control.integrationcontrolcosts WHERE Active = 1 AND Gold = 1 ORDER BY TableName ASC\").cache()\n",
    "display(tables_to_extract)"
   ]
  },
  {
   "cell_type": "markdown",
   "metadata": {
    "application/vnd.databricks.v1+cell": {
     "cellMetadata": {
      "byteLimit": 2048000,
      "rowLimit": 10000
     },
     "inputWidgets": {},
     "nuid": "63ca0d6d-5ad5-43e0-8d81-5c605a982e20",
     "showTitle": false,
     "tableResultSettingsMap": {},
     "title": ""
    }
   },
   "source": [
    "# Explode Silver Tables \"Values\" into a Gold Table"
   ]
  },
  {
   "cell_type": "code",
   "execution_count": 0,
   "metadata": {
    "application/vnd.databricks.v1+cell": {
     "cellMetadata": {
      "byteLimit": 2048000,
      "rowLimit": 10000
     },
     "inputWidgets": {},
     "nuid": "e6db9c52-c24b-4fdb-af7f-2c4237a7095e",
     "showTitle": false,
     "tableResultSettingsMap": {},
     "title": ""
    }
   },
   "outputs": [],
   "source": [
    "from pyspark.sql.functions import col, to_date, concat_ws, sha2, lit\n",
    "# Itera sobre as tabelas a serem extraídas\n",
    "for table in tables_to_extract.collect():\n",
    "   # Obtém as últimas extrações para cada tabela\n",
    "   month_to_extract = spark.sql(\n",
    "       f\"SELECT DISTINCT LastExtractionMonth FROM silver.{table['TableName']} WHERE LastExtractionDate > '{table['LastExtractionDate']}'\"\n",
    "   )\n",
    "   # Itera sobre cada mês a ser extraído\n",
    "   for month in month_to_extract.collect():\n",
    "       # Seleciona os registros mais recentes para o mês\n",
    "       recent_entries = spark.sql(\n",
    "           f\"\"\"\n",
    "           SELECT *\n",
    "           FROM silver.{table['TableName']}\n",
    "           WHERE LastExtractionMonth = '{month['LastExtractionMonth']}'\n",
    "           AND LastExtractionDate = (SELECT MAX(LastExtractionDate) FROM silver.{table['TableName']} WHERE LastExtractionMonth = '{month['LastExtractionMonth']}')\n",
    "           \"\"\"\n",
    "       )\n",
    "       \n",
    "       # Cast para tipo numérico nas colunas necessárias\n",
    "       numeric_columns = ['UsageQuantity', 'ResourceRate', 'PreTaxCost']\n",
    "       for col_name in numeric_columns:\n",
    "           if col_name in recent_entries.columns:\n",
    "               recent_entries = recent_entries.withColumn(col_name, col(col_name).cast('float'))\n",
    "\n",
    "       # Converte a data para o formato correto, se existir\n",
    "       if 'UsageDateTime' in recent_entries.columns:\n",
    "           recent_entries = recent_entries.withColumn('UsageDateTime', to_date(col('UsageDateTime'), 'yyyy-MM-dd'))\n",
    "\n",
    "       # Cria a coluna 'UniqueCombination' se necessário\n",
    "       if 'SubscriptionName' in recent_entries.columns and 'ResourceGroup' in recent_entries.columns:\n",
    "           recent_entries = recent_entries.withColumn('UniqueCombination', concat_ws('_', col('SubscriptionName'), col('ResourceGroup')))\n",
    "\n",
    "       # Preenche valores nulos em 'ResourceGroup'\n",
    "       if 'ResourceGroup' in recent_entries.columns:\n",
    "           recent_entries = recent_entries.fillna({\"ResourceGroup\": \"N/A\"})\n",
    "\n",
    "       # Cria a coluna 'UniqueID' se necessário\n",
    "       if 'UniqueCombination' in recent_entries.columns:\n",
    "           recent_entries = recent_entries.withColumn('UniqueID', sha2(col('UniqueCombination'), 256))\n",
    "           recent_entries = recent_entries.drop('UniqueCombination')\n",
    "\n",
    "       # Garante que a DataFrame tenha as mesmas colunas da tabela de destino\n",
    "       #target_table_columns = spark.table(f\"gold.{table['TableName']}\").columns\n",
    "       #for col_name in target_table_columns:\n",
    "       #    if col_name not in recent_entries.columns:\n",
    "       #        recent_entries = recent_entries.withColumn(col_name, lit(None).cast(\"string\"))\n",
    "\n",
    "       # Chama a função para atualizar a tabela Gold\n",
    "       tn = updateGoldTable(\n",
    "           table['TableName'],\n",
    "           table['ColumnsToExtract'],\n",
    "           table['ColumnsAlias'],\n",
    "           month['LastExtractionMonth'],\n",
    "           recent_entries\n",
    "       )\n",
    "\n",
    "       # display(recent_entries)"
   ]
  },
  {
   "cell_type": "code",
   "execution_count": 0,
   "metadata": {
    "application/vnd.databricks.v1+cell": {
     "cellMetadata": {
      "byteLimit": 2048000,
      "implicitDf": true,
      "rowLimit": 10000
     },
     "inputWidgets": {},
     "nuid": "9dfa0b01-3d40-4b82-a919-3961b26d875c",
     "showTitle": false,
     "tableResultSettingsMap": {},
     "title": ""
    }
   },
   "outputs": [
    {
     "output_type": "display_data",
     "data": {
      "text/html": [
       "<style scoped>\n",
       "  .table-result-container {\n",
       "    max-height: 300px;\n",
       "    overflow: auto;\n",
       "  }\n",
       "  table, th, td {\n",
       "    border: 1px solid black;\n",
       "    border-collapse: collapse;\n",
       "  }\n",
       "  th, td {\n",
       "    padding: 5px;\n",
       "  }\n",
       "  th {\n",
       "    text-align: left;\n",
       "  }\n",
       "</style><div class='table-result-container'><table class='table-result'><thead style='background-color: white'><tr><th>UsageDateTime</th><th>LastExtractionDate</th></tr></thead><tbody><tr><td>2025-02-02</td><td>2025-02-03T01:57:18Z</td></tr><tr><td>2025-02-01</td><td>2025-02-03T01:57:18Z</td></tr><tr><td>2025-01-31</td><td>2025-02-03T01:58:09Z</td></tr><tr><td>2025-01-30</td><td>2025-02-03T01:58:09Z</td></tr><tr><td>2025-01-29</td><td>2025-02-03T01:58:09Z</td></tr><tr><td>2025-01-28</td><td>2025-02-03T01:58:09Z</td></tr><tr><td>2025-01-27</td><td>2025-02-03T01:58:09Z</td></tr><tr><td>2025-01-26</td><td>2025-02-03T01:58:09Z</td></tr><tr><td>2025-01-25</td><td>2025-02-03T01:58:09Z</td></tr><tr><td>2025-01-24</td><td>2025-02-03T01:58:09Z</td></tr><tr><td>2025-01-23</td><td>2025-02-03T01:58:09Z</td></tr><tr><td>2025-01-22</td><td>2025-02-03T01:58:09Z</td></tr><tr><td>2025-01-21</td><td>2025-02-03T01:58:09Z</td></tr><tr><td>2025-01-20</td><td>2025-02-03T01:58:09Z</td></tr><tr><td>2025-01-19</td><td>2025-02-03T01:58:09Z</td></tr><tr><td>2025-01-18</td><td>2025-02-03T01:58:09Z</td></tr><tr><td>2025-01-17</td><td>2025-02-03T01:58:09Z</td></tr><tr><td>2025-01-16</td><td>2025-02-03T01:58:09Z</td></tr><tr><td>2025-01-15</td><td>2025-02-03T01:58:09Z</td></tr><tr><td>2025-01-14</td><td>2025-02-03T01:58:09Z</td></tr><tr><td>2025-01-13</td><td>2025-02-03T01:58:09Z</td></tr><tr><td>2025-01-12</td><td>2025-02-03T01:58:09Z</td></tr><tr><td>2025-01-11</td><td>2025-02-03T01:58:09Z</td></tr><tr><td>2025-01-10</td><td>2025-02-03T01:58:09Z</td></tr><tr><td>2025-01-09</td><td>2025-02-03T01:58:09Z</td></tr><tr><td>2025-01-08</td><td>2025-02-03T01:58:09Z</td></tr><tr><td>2025-01-07</td><td>2025-02-03T01:58:09Z</td></tr><tr><td>2025-01-06</td><td>2025-02-03T01:58:09Z</td></tr><tr><td>2025-01-05</td><td>2025-02-03T01:58:09Z</td></tr><tr><td>2025-01-04</td><td>2025-02-03T01:58:09Z</td></tr><tr><td>2025-01-03</td><td>2025-02-03T01:58:09Z</td></tr><tr><td>2025-01-02</td><td>2025-02-03T01:58:09Z</td></tr><tr><td>2025-01-01</td><td>2025-02-03T01:58:09Z</td></tr><tr><td>2024-12-31</td><td>2025-01-10T17:00:53Z</td></tr><tr><td>2024-12-30</td><td>2025-01-10T17:00:53Z</td></tr><tr><td>2024-12-29</td><td>2025-01-10T17:00:53Z</td></tr><tr><td>2024-12-28</td><td>2025-01-10T17:00:53Z</td></tr><tr><td>2024-12-27</td><td>2025-01-10T17:00:53Z</td></tr><tr><td>2024-12-26</td><td>2025-01-10T17:00:53Z</td></tr><tr><td>2024-12-25</td><td>2025-01-10T17:00:53Z</td></tr><tr><td>2024-12-24</td><td>2025-01-10T17:00:53Z</td></tr><tr><td>2024-12-23</td><td>2025-01-10T17:00:53Z</td></tr><tr><td>2024-12-22</td><td>2025-01-10T17:00:53Z</td></tr><tr><td>2024-12-21</td><td>2025-01-10T17:00:53Z</td></tr><tr><td>2024-12-20</td><td>2025-01-10T17:00:53Z</td></tr><tr><td>2024-12-19</td><td>2025-01-10T17:00:53Z</td></tr><tr><td>2024-12-18</td><td>2025-01-10T17:00:53Z</td></tr><tr><td>2024-12-17</td><td>2025-01-10T17:00:53Z</td></tr><tr><td>2024-12-16</td><td>2025-01-10T17:00:53Z</td></tr><tr><td>2024-12-15</td><td>2025-01-10T17:00:53Z</td></tr><tr><td>2024-12-14</td><td>2025-01-10T17:00:53Z</td></tr><tr><td>2024-12-13</td><td>2025-01-10T17:00:53Z</td></tr><tr><td>2024-12-12</td><td>2025-01-10T17:00:53Z</td></tr><tr><td>2024-12-11</td><td>2025-01-10T17:00:53Z</td></tr><tr><td>2024-12-10</td><td>2025-01-10T17:00:53Z</td></tr><tr><td>2024-12-09</td><td>2025-01-10T17:00:53Z</td></tr><tr><td>2024-12-08</td><td>2025-01-10T17:00:53Z</td></tr><tr><td>2024-12-07</td><td>2025-01-10T17:00:53Z</td></tr><tr><td>2024-12-06</td><td>2025-01-10T17:00:53Z</td></tr><tr><td>2024-12-05</td><td>2025-01-10T17:00:53Z</td></tr><tr><td>2024-12-04</td><td>2025-01-10T17:00:53Z</td></tr><tr><td>2024-12-03</td><td>2025-01-10T17:00:53Z</td></tr><tr><td>2024-12-02</td><td>2025-01-10T17:00:53Z</td></tr><tr><td>2024-12-01</td><td>2025-01-10T17:00:53Z</td></tr><tr><td>2024-11-30</td><td>2025-01-12T14:57:38Z</td></tr><tr><td>2024-11-29</td><td>2025-01-12T14:57:38Z</td></tr><tr><td>2024-11-28</td><td>2025-01-12T14:57:38Z</td></tr><tr><td>2024-11-27</td><td>2025-01-12T14:57:38Z</td></tr><tr><td>2024-11-26</td><td>2025-01-12T14:57:38Z</td></tr><tr><td>2024-11-25</td><td>2025-01-12T14:57:38Z</td></tr><tr><td>2024-11-24</td><td>2025-01-12T14:57:38Z</td></tr><tr><td>2024-11-23</td><td>2025-01-12T14:57:38Z</td></tr><tr><td>2024-11-22</td><td>2025-01-12T14:57:38Z</td></tr><tr><td>2024-11-21</td><td>2025-01-12T14:57:38Z</td></tr><tr><td>2024-11-20</td><td>2025-01-12T14:57:38Z</td></tr><tr><td>2024-11-19</td><td>2025-01-12T14:57:38Z</td></tr><tr><td>2024-11-18</td><td>2025-01-12T14:57:38Z</td></tr><tr><td>2024-11-17</td><td>2025-01-12T14:57:38Z</td></tr><tr><td>2024-11-16</td><td>2025-01-12T14:57:38Z</td></tr><tr><td>2024-11-15</td><td>2025-01-12T14:57:38Z</td></tr><tr><td>2024-11-14</td><td>2025-01-12T14:57:38Z</td></tr><tr><td>2024-11-13</td><td>2025-01-12T14:57:38Z</td></tr><tr><td>2024-11-12</td><td>2025-01-12T14:57:38Z</td></tr><tr><td>2024-11-11</td><td>2025-01-12T14:57:38Z</td></tr><tr><td>2024-11-10</td><td>2025-01-12T14:57:38Z</td></tr><tr><td>2024-11-09</td><td>2025-01-12T14:57:38Z</td></tr><tr><td>2024-11-08</td><td>2025-01-12T14:57:38Z</td></tr><tr><td>2024-11-07</td><td>2025-01-12T14:57:38Z</td></tr><tr><td>2024-11-06</td><td>2025-01-12T14:57:38Z</td></tr><tr><td>2024-11-05</td><td>2025-01-12T14:57:38Z</td></tr><tr><td>2024-11-04</td><td>2025-01-12T14:57:38Z</td></tr><tr><td>2024-11-03</td><td>2025-01-12T14:57:38Z</td></tr><tr><td>2024-11-02</td><td>2025-01-12T14:57:38Z</td></tr><tr><td>2024-11-01</td><td>2025-01-12T14:57:38Z</td></tr><tr><td>2024-10-31</td><td>2024-11-12T13:56:21Z</td></tr><tr><td>2024-10-30</td><td>2024-11-12T13:56:21Z</td></tr><tr><td>2024-10-29</td><td>2024-11-12T13:56:21Z</td></tr><tr><td>2024-10-28</td><td>2024-11-12T13:56:21Z</td></tr><tr><td>2024-10-27</td><td>2024-11-12T13:56:21Z</td></tr><tr><td>2024-10-26</td><td>2024-11-12T13:56:21Z</td></tr><tr><td>2024-10-25</td><td>2024-11-12T13:56:21Z</td></tr><tr><td>2024-10-24</td><td>2024-11-12T13:56:21Z</td></tr><tr><td>2024-10-23</td><td>2024-11-12T13:56:21Z</td></tr><tr><td>2024-10-22</td><td>2024-11-12T13:56:21Z</td></tr><tr><td>2024-10-21</td><td>2024-11-12T13:56:21Z</td></tr><tr><td>2024-10-20</td><td>2024-11-12T13:56:21Z</td></tr><tr><td>2024-10-19</td><td>2024-11-12T13:56:21Z</td></tr><tr><td>2024-10-18</td><td>2024-11-12T13:56:21Z</td></tr><tr><td>2024-10-17</td><td>2024-11-12T13:56:21Z</td></tr><tr><td>2024-10-16</td><td>2024-11-12T13:56:21Z</td></tr><tr><td>2024-10-15</td><td>2024-11-12T13:56:21Z</td></tr><tr><td>2024-10-14</td><td>2024-11-12T13:56:21Z</td></tr><tr><td>2024-10-13</td><td>2024-11-12T13:56:21Z</td></tr><tr><td>2024-10-12</td><td>2024-11-12T13:56:21Z</td></tr><tr><td>2024-10-11</td><td>2024-11-12T13:56:21Z</td></tr><tr><td>2024-10-10</td><td>2024-11-12T13:56:21Z</td></tr><tr><td>2024-10-09</td><td>2024-11-12T13:56:21Z</td></tr><tr><td>2024-10-08</td><td>2024-11-12T13:56:21Z</td></tr><tr><td>2024-10-07</td><td>2024-11-12T13:56:21Z</td></tr><tr><td>2024-10-06</td><td>2024-11-12T13:56:21Z</td></tr><tr><td>2024-10-05</td><td>2024-11-12T13:56:21Z</td></tr><tr><td>2024-10-04</td><td>2024-11-12T13:56:21Z</td></tr><tr><td>2024-10-03</td><td>2024-11-12T13:56:21Z</td></tr><tr><td>2024-10-02</td><td>2024-11-12T13:56:21Z</td></tr><tr><td>2024-10-01</td><td>2024-11-12T13:56:21Z</td></tr><tr><td>2024-09-30</td><td>2024-11-12T13:56:45Z</td></tr><tr><td>2024-09-29</td><td>2024-11-12T13:56:45Z</td></tr><tr><td>2024-09-28</td><td>2024-11-12T13:56:45Z</td></tr><tr><td>2024-09-27</td><td>2024-11-12T13:56:45Z</td></tr><tr><td>2024-09-26</td><td>2024-11-12T13:56:45Z</td></tr><tr><td>2024-09-25</td><td>2024-11-12T13:56:45Z</td></tr><tr><td>2024-09-24</td><td>2024-11-12T13:56:45Z</td></tr><tr><td>2024-09-23</td><td>2024-11-12T13:56:45Z</td></tr><tr><td>2024-09-22</td><td>2024-11-12T13:56:45Z</td></tr><tr><td>2024-09-21</td><td>2024-11-12T13:56:45Z</td></tr><tr><td>2024-09-20</td><td>2024-11-12T13:56:45Z</td></tr><tr><td>2024-09-19</td><td>2024-11-12T13:56:45Z</td></tr><tr><td>2024-09-18</td><td>2024-11-12T13:56:45Z</td></tr><tr><td>2024-09-17</td><td>2024-11-12T13:56:45Z</td></tr><tr><td>2024-09-16</td><td>2024-11-12T13:56:45Z</td></tr><tr><td>2024-09-15</td><td>2024-11-12T13:56:45Z</td></tr><tr><td>2024-09-14</td><td>2024-11-12T13:56:45Z</td></tr><tr><td>2024-09-13</td><td>2024-11-12T13:56:45Z</td></tr><tr><td>2024-09-12</td><td>2024-11-12T13:56:45Z</td></tr><tr><td>2024-09-11</td><td>2024-11-12T13:56:45Z</td></tr><tr><td>2024-09-10</td><td>2024-11-12T13:56:45Z</td></tr><tr><td>2024-09-09</td><td>2024-11-12T13:56:45Z</td></tr><tr><td>2024-09-08</td><td>2024-11-12T13:56:45Z</td></tr><tr><td>2024-09-07</td><td>2024-11-12T13:56:45Z</td></tr><tr><td>2024-09-06</td><td>2024-11-12T13:56:45Z</td></tr><tr><td>2024-09-05</td><td>2024-11-12T13:56:45Z</td></tr><tr><td>2024-09-04</td><td>2024-11-12T13:56:45Z</td></tr><tr><td>2024-09-03</td><td>2024-11-12T13:56:45Z</td></tr><tr><td>2024-09-02</td><td>2024-11-12T13:56:45Z</td></tr><tr><td>2024-09-01</td><td>2024-11-12T13:56:45Z</td></tr><tr><td>2024-08-31</td><td>2024-12-02T14:37:13Z</td></tr><tr><td>2024-08-30</td><td>2024-12-02T14:37:13Z</td></tr><tr><td>2024-08-29</td><td>2024-12-02T14:37:13Z</td></tr><tr><td>2024-08-28</td><td>2024-12-02T14:37:13Z</td></tr><tr><td>2024-08-27</td><td>2024-12-02T14:37:13Z</td></tr><tr><td>2024-08-26</td><td>2024-12-02T14:37:13Z</td></tr><tr><td>2024-08-25</td><td>2024-12-02T14:37:13Z</td></tr><tr><td>2024-08-24</td><td>2024-12-02T14:37:13Z</td></tr><tr><td>2024-08-23</td><td>2024-12-02T14:37:13Z</td></tr><tr><td>2024-08-22</td><td>2024-12-02T14:37:13Z</td></tr><tr><td>2024-08-21</td><td>2024-12-02T14:37:13Z</td></tr><tr><td>2024-08-20</td><td>2024-12-02T14:37:13Z</td></tr><tr><td>2024-08-19</td><td>2024-12-02T14:37:13Z</td></tr><tr><td>2024-08-18</td><td>2024-12-02T14:37:13Z</td></tr><tr><td>2024-08-17</td><td>2024-12-02T14:37:13Z</td></tr><tr><td>2024-08-16</td><td>2024-12-02T14:37:13Z</td></tr><tr><td>2024-08-15</td><td>2024-12-02T14:37:13Z</td></tr><tr><td>2024-08-14</td><td>2024-12-02T14:37:13Z</td></tr><tr><td>2024-08-13</td><td>2024-12-02T14:37:13Z</td></tr><tr><td>2024-08-12</td><td>2024-12-02T14:37:13Z</td></tr><tr><td>2024-08-11</td><td>2024-12-02T14:37:13Z</td></tr><tr><td>2024-08-10</td><td>2024-12-02T14:37:13Z</td></tr><tr><td>2024-08-09</td><td>2024-12-02T14:37:13Z</td></tr><tr><td>2024-08-08</td><td>2024-12-02T14:37:13Z</td></tr><tr><td>2024-08-07</td><td>2024-12-02T14:37:13Z</td></tr><tr><td>2024-08-06</td><td>2024-12-02T14:37:13Z</td></tr><tr><td>2024-08-05</td><td>2024-12-02T14:37:13Z</td></tr><tr><td>2024-08-04</td><td>2024-12-02T14:37:13Z</td></tr><tr><td>2024-08-03</td><td>2024-12-02T14:37:13Z</td></tr><tr><td>2024-08-02</td><td>2024-12-02T14:37:13Z</td></tr><tr><td>2024-08-01</td><td>2024-12-02T14:37:13Z</td></tr><tr><td>2024-07-31</td><td>2024-12-02T14:38:22Z</td></tr><tr><td>2024-07-30</td><td>2024-12-02T14:38:22Z</td></tr><tr><td>2024-07-29</td><td>2024-12-02T14:38:22Z</td></tr><tr><td>2024-07-28</td><td>2024-12-02T14:38:22Z</td></tr><tr><td>2024-07-27</td><td>2024-12-02T14:38:22Z</td></tr><tr><td>2024-07-26</td><td>2024-12-02T14:38:22Z</td></tr><tr><td>2024-07-25</td><td>2024-12-02T14:38:22Z</td></tr><tr><td>2024-07-24</td><td>2024-12-02T14:38:22Z</td></tr><tr><td>2024-07-23</td><td>2024-12-02T14:38:22Z</td></tr><tr><td>2024-07-22</td><td>2024-12-02T14:38:22Z</td></tr><tr><td>2024-07-21</td><td>2024-12-02T14:38:22Z</td></tr><tr><td>2024-07-20</td><td>2024-12-02T14:38:22Z</td></tr><tr><td>2024-07-19</td><td>2024-12-02T14:38:22Z</td></tr><tr><td>2024-07-18</td><td>2024-12-02T14:38:22Z</td></tr><tr><td>2024-07-17</td><td>2024-12-02T14:38:22Z</td></tr><tr><td>2024-07-16</td><td>2024-12-02T14:38:22Z</td></tr><tr><td>2024-07-15</td><td>2024-12-02T14:38:22Z</td></tr><tr><td>2024-07-14</td><td>2024-12-02T14:38:22Z</td></tr><tr><td>2024-07-13</td><td>2024-12-02T14:38:22Z</td></tr><tr><td>2024-07-12</td><td>2024-12-02T14:38:22Z</td></tr><tr><td>2024-07-11</td><td>2024-12-02T14:38:22Z</td></tr><tr><td>2024-07-10</td><td>2024-12-02T14:38:22Z</td></tr><tr><td>2024-07-09</td><td>2024-12-02T14:38:22Z</td></tr><tr><td>2024-07-08</td><td>2024-12-02T14:38:22Z</td></tr><tr><td>2024-07-07</td><td>2024-12-02T14:38:22Z</td></tr><tr><td>2024-07-06</td><td>2024-12-02T14:38:22Z</td></tr><tr><td>2024-07-05</td><td>2024-12-02T14:38:22Z</td></tr><tr><td>2024-07-04</td><td>2024-12-02T14:38:22Z</td></tr><tr><td>2024-07-03</td><td>2024-12-02T14:38:22Z</td></tr><tr><td>2024-07-02</td><td>2024-12-02T14:38:22Z</td></tr><tr><td>2024-07-01</td><td>2024-12-02T14:38:22Z</td></tr><tr><td>2024-06-30</td><td>2024-12-02T14:38:52Z</td></tr><tr><td>2024-06-29</td><td>2024-12-02T14:38:52Z</td></tr><tr><td>2024-06-28</td><td>2024-12-02T14:38:52Z</td></tr><tr><td>2024-06-27</td><td>2024-12-02T14:38:52Z</td></tr><tr><td>2024-06-26</td><td>2024-12-02T14:38:52Z</td></tr><tr><td>2024-06-25</td><td>2024-12-02T14:38:52Z</td></tr><tr><td>2024-06-24</td><td>2024-12-02T14:38:52Z</td></tr><tr><td>2024-06-23</td><td>2024-12-02T14:38:52Z</td></tr><tr><td>2024-06-22</td><td>2024-12-02T14:38:52Z</td></tr><tr><td>2024-06-21</td><td>2024-12-02T14:38:52Z</td></tr><tr><td>2024-06-20</td><td>2024-12-02T14:38:52Z</td></tr><tr><td>2024-06-19</td><td>2024-12-02T14:38:52Z</td></tr><tr><td>2024-06-18</td><td>2024-12-02T14:38:52Z</td></tr><tr><td>2024-06-17</td><td>2024-12-02T14:38:52Z</td></tr><tr><td>2024-06-16</td><td>2024-12-02T14:38:52Z</td></tr><tr><td>2024-06-15</td><td>2024-12-02T14:38:52Z</td></tr><tr><td>2024-06-14</td><td>2024-12-02T14:38:52Z</td></tr><tr><td>2024-06-13</td><td>2024-12-02T14:38:52Z</td></tr><tr><td>2024-06-12</td><td>2024-12-02T14:38:52Z</td></tr><tr><td>2024-06-11</td><td>2024-12-02T14:38:52Z</td></tr><tr><td>2024-06-10</td><td>2024-12-02T14:38:52Z</td></tr><tr><td>2024-06-09</td><td>2024-12-02T14:38:52Z</td></tr><tr><td>2024-06-08</td><td>2024-12-02T14:38:52Z</td></tr><tr><td>2024-06-07</td><td>2024-12-02T14:38:52Z</td></tr><tr><td>2024-06-06</td><td>2024-12-02T14:38:52Z</td></tr><tr><td>2024-06-05</td><td>2024-12-02T14:38:52Z</td></tr><tr><td>2024-06-04</td><td>2024-12-02T14:38:52Z</td></tr><tr><td>2024-06-03</td><td>2024-12-02T14:38:52Z</td></tr><tr><td>2024-06-02</td><td>2024-12-02T14:38:52Z</td></tr><tr><td>2024-06-01</td><td>2024-12-02T14:38:52Z</td></tr><tr><td>2024-05-31</td><td>2024-12-02T14:39:26Z</td></tr><tr><td>2024-05-30</td><td>2024-12-02T14:39:26Z</td></tr><tr><td>2024-05-29</td><td>2024-12-02T14:39:26Z</td></tr><tr><td>2024-05-28</td><td>2024-12-02T14:39:26Z</td></tr><tr><td>2024-05-27</td><td>2024-12-02T14:39:26Z</td></tr><tr><td>2024-05-26</td><td>2024-12-02T14:39:26Z</td></tr><tr><td>2024-05-25</td><td>2024-12-02T14:39:26Z</td></tr><tr><td>2024-05-24</td><td>2024-12-02T14:39:26Z</td></tr><tr><td>2024-05-23</td><td>2024-12-02T14:39:26Z</td></tr><tr><td>2024-05-22</td><td>2024-12-02T14:39:26Z</td></tr><tr><td>2024-05-21</td><td>2024-12-02T14:39:26Z</td></tr><tr><td>2024-05-20</td><td>2024-12-02T14:39:26Z</td></tr><tr><td>2024-05-19</td><td>2024-12-02T14:39:26Z</td></tr><tr><td>2024-05-18</td><td>2024-12-02T14:39:26Z</td></tr><tr><td>2024-05-17</td><td>2024-12-02T14:39:26Z</td></tr><tr><td>2024-05-16</td><td>2024-12-02T14:39:26Z</td></tr><tr><td>2024-05-15</td><td>2024-12-02T14:39:26Z</td></tr><tr><td>2024-05-14</td><td>2024-12-02T14:39:26Z</td></tr><tr><td>2024-05-13</td><td>2024-12-02T14:39:26Z</td></tr><tr><td>2024-05-12</td><td>2024-12-02T14:39:26Z</td></tr><tr><td>2024-05-11</td><td>2024-12-02T14:39:26Z</td></tr><tr><td>2024-05-10</td><td>2024-12-02T14:39:26Z</td></tr><tr><td>2024-05-09</td><td>2024-12-02T14:39:26Z</td></tr><tr><td>2024-05-08</td><td>2024-12-02T14:39:26Z</td></tr><tr><td>2024-05-07</td><td>2024-12-02T14:39:26Z</td></tr><tr><td>2024-05-06</td><td>2024-12-02T14:39:26Z</td></tr><tr><td>2024-05-05</td><td>2024-12-02T14:39:26Z</td></tr><tr><td>2024-05-04</td><td>2024-12-02T14:39:26Z</td></tr><tr><td>2024-05-03</td><td>2024-12-02T14:39:26Z</td></tr><tr><td>2024-05-02</td><td>2024-12-02T14:39:26Z</td></tr><tr><td>2024-05-01</td><td>2024-12-02T14:39:26Z</td></tr><tr><td>2024-04-30</td><td>2024-12-02T14:36:56Z</td></tr><tr><td>2024-04-29</td><td>2024-12-02T14:36:56Z</td></tr><tr><td>2024-04-28</td><td>2024-12-02T14:36:56Z</td></tr><tr><td>2024-04-27</td><td>2024-12-02T14:36:56Z</td></tr><tr><td>2024-04-26</td><td>2024-12-02T14:36:56Z</td></tr><tr><td>2024-04-25</td><td>2024-12-02T14:36:56Z</td></tr><tr><td>2024-04-24</td><td>2024-12-02T14:36:56Z</td></tr><tr><td>2024-04-23</td><td>2024-12-02T14:36:56Z</td></tr><tr><td>2024-04-22</td><td>2024-12-02T14:36:56Z</td></tr><tr><td>2024-04-21</td><td>2024-12-02T14:36:56Z</td></tr><tr><td>2024-04-20</td><td>2024-12-02T14:36:56Z</td></tr><tr><td>2024-04-19</td><td>2024-12-02T14:36:56Z</td></tr><tr><td>2024-04-18</td><td>2024-12-02T14:36:56Z</td></tr><tr><td>2024-04-17</td><td>2024-12-02T14:36:56Z</td></tr><tr><td>2024-04-16</td><td>2024-12-02T14:36:56Z</td></tr><tr><td>2024-04-15</td><td>2024-12-02T14:36:56Z</td></tr><tr><td>2024-04-14</td><td>2024-12-02T14:36:56Z</td></tr><tr><td>2024-04-13</td><td>2024-12-02T14:36:56Z</td></tr><tr><td>2024-04-12</td><td>2024-12-02T14:36:56Z</td></tr><tr><td>2024-04-11</td><td>2024-12-02T14:36:56Z</td></tr><tr><td>2024-04-10</td><td>2024-12-02T14:36:56Z</td></tr><tr><td>2024-04-09</td><td>2024-12-02T14:36:56Z</td></tr><tr><td>2024-04-08</td><td>2024-12-02T14:36:56Z</td></tr><tr><td>2024-04-07</td><td>2024-12-02T14:36:56Z</td></tr><tr><td>2024-04-06</td><td>2024-12-02T14:36:56Z</td></tr><tr><td>2024-04-05</td><td>2024-12-02T14:36:56Z</td></tr><tr><td>2024-04-04</td><td>2024-12-02T14:36:56Z</td></tr><tr><td>2024-04-03</td><td>2024-12-02T14:36:56Z</td></tr><tr><td>2024-04-02</td><td>2024-12-02T14:36:56Z</td></tr><tr><td>2024-04-01</td><td>2024-12-02T14:36:56Z</td></tr><tr><td>2024-03-31</td><td>2024-12-02T14:39:08Z</td></tr><tr><td>2024-03-30</td><td>2024-12-02T14:39:08Z</td></tr><tr><td>2024-03-29</td><td>2024-12-02T14:39:08Z</td></tr><tr><td>2024-03-28</td><td>2024-12-02T14:39:08Z</td></tr><tr><td>2024-03-27</td><td>2024-12-02T14:39:08Z</td></tr><tr><td>2024-03-26</td><td>2024-12-02T14:39:08Z</td></tr><tr><td>2024-03-25</td><td>2024-12-02T14:39:08Z</td></tr><tr><td>2024-03-24</td><td>2024-12-02T14:39:08Z</td></tr><tr><td>2024-03-23</td><td>2024-12-02T14:39:08Z</td></tr><tr><td>2024-03-22</td><td>2024-12-02T14:39:08Z</td></tr><tr><td>2024-03-21</td><td>2024-12-02T14:39:08Z</td></tr><tr><td>2024-03-20</td><td>2024-12-02T14:39:08Z</td></tr><tr><td>2024-03-19</td><td>2024-12-02T14:39:08Z</td></tr><tr><td>2024-03-18</td><td>2024-12-02T14:39:08Z</td></tr><tr><td>2024-03-17</td><td>2024-12-02T14:39:08Z</td></tr><tr><td>2024-03-16</td><td>2024-12-02T14:39:08Z</td></tr><tr><td>2024-03-15</td><td>2024-12-02T14:39:08Z</td></tr><tr><td>2024-03-14</td><td>2024-12-02T14:39:08Z</td></tr><tr><td>2024-03-13</td><td>2024-12-02T14:39:08Z</td></tr><tr><td>2024-03-12</td><td>2024-12-02T14:39:08Z</td></tr><tr><td>2024-03-11</td><td>2024-12-02T14:39:08Z</td></tr><tr><td>2024-03-10</td><td>2024-12-02T14:39:08Z</td></tr><tr><td>2024-03-09</td><td>2024-12-02T14:39:08Z</td></tr><tr><td>2024-03-08</td><td>2024-12-02T14:39:08Z</td></tr><tr><td>2024-03-07</td><td>2024-12-02T14:39:08Z</td></tr><tr><td>2024-03-06</td><td>2024-12-02T14:39:08Z</td></tr><tr><td>2024-03-05</td><td>2024-12-02T14:39:08Z</td></tr><tr><td>2024-03-04</td><td>2024-12-02T14:39:08Z</td></tr><tr><td>2024-03-03</td><td>2024-12-02T14:39:08Z</td></tr><tr><td>2024-03-02</td><td>2024-12-02T14:39:08Z</td></tr><tr><td>2024-03-01</td><td>2024-12-02T14:39:08Z</td></tr><tr><td>2024-02-29</td><td>2024-12-02T14:37:39Z</td></tr><tr><td>2024-02-28</td><td>2024-12-02T14:37:39Z</td></tr><tr><td>2024-02-27</td><td>2024-12-02T14:37:39Z</td></tr><tr><td>2024-02-26</td><td>2024-12-02T14:37:39Z</td></tr><tr><td>2024-02-25</td><td>2024-12-02T14:37:39Z</td></tr><tr><td>2024-02-24</td><td>2024-12-02T14:37:39Z</td></tr><tr><td>2024-02-23</td><td>2024-12-02T14:37:39Z</td></tr><tr><td>2024-02-22</td><td>2024-12-02T14:37:39Z</td></tr><tr><td>2024-02-21</td><td>2024-12-02T14:37:39Z</td></tr><tr><td>2024-02-20</td><td>2024-12-02T14:37:39Z</td></tr><tr><td>2024-02-19</td><td>2024-12-02T14:37:39Z</td></tr><tr><td>2024-02-18</td><td>2024-12-02T14:37:39Z</td></tr><tr><td>2024-02-17</td><td>2024-12-02T14:37:39Z</td></tr><tr><td>2024-02-16</td><td>2024-12-02T14:37:39Z</td></tr><tr><td>2024-02-15</td><td>2024-12-02T14:37:39Z</td></tr><tr><td>2024-02-14</td><td>2024-12-02T14:37:39Z</td></tr><tr><td>2024-02-13</td><td>2024-12-02T14:37:39Z</td></tr><tr><td>2024-02-12</td><td>2024-12-02T14:37:39Z</td></tr><tr><td>2024-02-11</td><td>2024-12-02T14:37:39Z</td></tr><tr><td>2024-02-10</td><td>2024-12-02T14:37:39Z</td></tr><tr><td>2024-02-09</td><td>2024-12-02T14:37:39Z</td></tr><tr><td>2024-02-08</td><td>2024-12-02T14:37:39Z</td></tr><tr><td>2024-02-07</td><td>2024-12-02T14:37:39Z</td></tr><tr><td>2024-02-06</td><td>2024-12-02T14:37:39Z</td></tr><tr><td>2024-02-05</td><td>2024-12-02T14:37:39Z</td></tr><tr><td>2024-02-04</td><td>2024-12-02T14:37:39Z</td></tr><tr><td>2024-02-03</td><td>2024-12-02T14:37:39Z</td></tr><tr><td>2024-02-02</td><td>2024-12-02T14:37:39Z</td></tr><tr><td>2024-02-01</td><td>2024-12-02T14:37:39Z</td></tr><tr><td>2024-01-31</td><td>2024-12-02T14:35:11Z</td></tr><tr><td>2024-01-30</td><td>2024-12-02T14:35:11Z</td></tr><tr><td>2024-01-29</td><td>2024-12-02T14:35:11Z</td></tr><tr><td>2024-01-28</td><td>2024-12-02T14:35:11Z</td></tr><tr><td>2024-01-27</td><td>2024-12-02T14:35:11Z</td></tr><tr><td>2024-01-26</td><td>2024-12-02T14:35:11Z</td></tr><tr><td>2024-01-25</td><td>2024-12-02T14:35:11Z</td></tr><tr><td>2024-01-24</td><td>2024-12-02T14:35:11Z</td></tr><tr><td>2024-01-23</td><td>2024-12-02T14:35:11Z</td></tr><tr><td>2024-01-22</td><td>2024-12-02T14:35:11Z</td></tr><tr><td>2024-01-21</td><td>2024-12-02T14:35:11Z</td></tr><tr><td>2024-01-20</td><td>2024-12-02T14:35:11Z</td></tr><tr><td>2024-01-19</td><td>2024-12-02T14:35:11Z</td></tr><tr><td>2024-01-18</td><td>2024-12-02T14:35:11Z</td></tr><tr><td>2024-01-17</td><td>2024-12-02T14:35:11Z</td></tr><tr><td>2024-01-16</td><td>2024-12-02T14:35:11Z</td></tr><tr><td>2024-01-15</td><td>2024-12-02T14:35:11Z</td></tr><tr><td>2024-01-14</td><td>2024-12-02T14:35:11Z</td></tr><tr><td>2024-01-13</td><td>2024-12-02T14:35:11Z</td></tr><tr><td>2024-01-12</td><td>2024-12-02T14:35:11Z</td></tr><tr><td>2024-01-11</td><td>2024-12-02T14:35:11Z</td></tr><tr><td>2024-01-10</td><td>2024-12-02T14:35:11Z</td></tr><tr><td>2024-01-09</td><td>2024-12-02T14:35:11Z</td></tr><tr><td>2024-01-08</td><td>2024-12-02T14:35:11Z</td></tr><tr><td>2024-01-07</td><td>2024-12-02T14:35:11Z</td></tr><tr><td>2024-01-06</td><td>2024-12-02T14:35:11Z</td></tr><tr><td>2024-01-05</td><td>2024-12-02T14:35:11Z</td></tr><tr><td>2024-01-04</td><td>2024-12-02T14:35:11Z</td></tr><tr><td>2024-01-03</td><td>2024-12-02T14:35:11Z</td></tr><tr><td>2024-01-02</td><td>2024-12-02T14:35:11Z</td></tr><tr><td>2024-01-01</td><td>2024-12-02T14:35:11Z</td></tr><tr><td>2023-12-31</td><td>2024-12-02T14:34:23Z</td></tr><tr><td>2023-12-30</td><td>2024-12-02T14:34:23Z</td></tr><tr><td>2023-12-29</td><td>2024-12-02T14:34:23Z</td></tr><tr><td>2023-12-28</td><td>2024-12-02T14:34:23Z</td></tr><tr><td>2023-12-27</td><td>2024-12-02T14:34:23Z</td></tr><tr><td>2023-12-26</td><td>2024-12-02T14:34:23Z</td></tr><tr><td>2023-12-25</td><td>2024-12-02T14:34:23Z</td></tr><tr><td>2023-12-24</td><td>2024-12-02T14:34:23Z</td></tr><tr><td>2023-12-23</td><td>2024-12-02T14:34:23Z</td></tr><tr><td>2023-12-22</td><td>2024-12-02T14:34:23Z</td></tr><tr><td>2023-12-21</td><td>2024-12-02T14:34:23Z</td></tr><tr><td>2023-12-20</td><td>2024-12-02T14:34:23Z</td></tr><tr><td>2023-12-19</td><td>2024-12-02T14:34:23Z</td></tr><tr><td>2023-12-18</td><td>2024-12-02T14:34:23Z</td></tr><tr><td>2023-12-17</td><td>2024-12-02T14:34:23Z</td></tr><tr><td>2023-12-16</td><td>2024-12-02T14:34:23Z</td></tr><tr><td>2023-12-15</td><td>2024-12-02T14:34:23Z</td></tr><tr><td>2023-12-14</td><td>2024-12-02T14:34:23Z</td></tr><tr><td>2023-12-13</td><td>2024-12-02T14:34:23Z</td></tr><tr><td>2023-12-12</td><td>2024-12-02T14:34:23Z</td></tr><tr><td>2023-12-11</td><td>2024-12-02T14:34:23Z</td></tr><tr><td>2023-12-10</td><td>2024-12-02T14:34:23Z</td></tr><tr><td>2023-12-09</td><td>2024-12-02T14:34:23Z</td></tr><tr><td>2023-12-08</td><td>2024-12-02T14:34:23Z</td></tr><tr><td>2023-12-07</td><td>2024-12-02T14:34:23Z</td></tr><tr><td>2023-12-06</td><td>2024-12-02T14:34:23Z</td></tr><tr><td>2023-12-05</td><td>2024-12-02T14:34:23Z</td></tr><tr><td>2023-12-04</td><td>2024-12-02T14:34:23Z</td></tr><tr><td>2023-12-03</td><td>2024-12-02T14:34:23Z</td></tr><tr><td>2023-12-02</td><td>2024-12-02T14:34:23Z</td></tr><tr><td>2023-12-01</td><td>2024-12-02T14:34:23Z</td></tr><tr><td>2023-11-30</td><td>2024-12-02T14:36:28Z</td></tr><tr><td>2023-11-29</td><td>2024-12-02T14:36:28Z</td></tr><tr><td>2023-11-28</td><td>2024-12-02T14:36:28Z</td></tr><tr><td>2023-11-27</td><td>2024-12-02T14:36:28Z</td></tr><tr><td>2023-11-26</td><td>2024-12-02T14:36:28Z</td></tr><tr><td>2023-11-25</td><td>2024-12-02T14:36:28Z</td></tr><tr><td>2023-11-24</td><td>2024-12-02T14:36:28Z</td></tr><tr><td>2023-11-23</td><td>2024-12-02T14:36:28Z</td></tr><tr><td>2023-11-22</td><td>2024-12-02T14:36:28Z</td></tr><tr><td>2023-11-21</td><td>2024-12-02T14:36:28Z</td></tr><tr><td>2023-11-20</td><td>2024-12-02T14:36:28Z</td></tr><tr><td>2023-11-19</td><td>2024-12-02T14:36:28Z</td></tr><tr><td>2023-11-18</td><td>2024-12-02T14:36:28Z</td></tr><tr><td>2023-11-17</td><td>2024-12-02T14:36:28Z</td></tr><tr><td>2023-11-16</td><td>2024-12-02T14:36:28Z</td></tr><tr><td>2023-11-15</td><td>2024-12-02T14:36:28Z</td></tr><tr><td>2023-11-14</td><td>2024-12-02T14:36:28Z</td></tr><tr><td>2023-11-13</td><td>2024-12-02T14:36:28Z</td></tr><tr><td>2023-11-12</td><td>2024-12-02T14:36:28Z</td></tr><tr><td>2023-11-11</td><td>2024-12-02T14:36:28Z</td></tr><tr><td>2023-11-10</td><td>2024-12-02T14:36:28Z</td></tr><tr><td>2023-11-09</td><td>2024-12-02T14:36:28Z</td></tr><tr><td>2023-11-08</td><td>2024-12-02T14:36:28Z</td></tr><tr><td>2023-11-07</td><td>2024-12-02T14:36:28Z</td></tr><tr><td>2023-11-06</td><td>2024-12-02T14:36:28Z</td></tr><tr><td>2023-11-05</td><td>2024-12-02T14:36:28Z</td></tr><tr><td>2023-11-04</td><td>2024-12-02T14:36:28Z</td></tr><tr><td>2023-11-03</td><td>2024-12-02T14:36:28Z</td></tr><tr><td>2023-11-02</td><td>2024-12-02T14:36:28Z</td></tr></tbody></table></div>"
      ]
     },
     "metadata": {
      "application/vnd.databricks.v1+output": {
       "addedWidgets": {},
       "aggData": [],
       "aggError": "",
       "aggOverflow": false,
       "aggSchema": [],
       "aggSeriesLimitReached": false,
       "aggType": "",
       "arguments": {},
       "columnCustomDisplayInfos": {},
       "data": [
        [
         "2025-02-02",
         "2025-02-03T01:57:18Z"
        ],
        [
         "2025-02-01",
         "2025-02-03T01:57:18Z"
        ],
        [
         "2025-01-31",
         "2025-02-03T01:58:09Z"
        ],
        [
         "2025-01-30",
         "2025-02-03T01:58:09Z"
        ],
        [
         "2025-01-29",
         "2025-02-03T01:58:09Z"
        ],
        [
         "2025-01-28",
         "2025-02-03T01:58:09Z"
        ],
        [
         "2025-01-27",
         "2025-02-03T01:58:09Z"
        ],
        [
         "2025-01-26",
         "2025-02-03T01:58:09Z"
        ],
        [
         "2025-01-25",
         "2025-02-03T01:58:09Z"
        ],
        [
         "2025-01-24",
         "2025-02-03T01:58:09Z"
        ],
        [
         "2025-01-23",
         "2025-02-03T01:58:09Z"
        ],
        [
         "2025-01-22",
         "2025-02-03T01:58:09Z"
        ],
        [
         "2025-01-21",
         "2025-02-03T01:58:09Z"
        ],
        [
         "2025-01-20",
         "2025-02-03T01:58:09Z"
        ],
        [
         "2025-01-19",
         "2025-02-03T01:58:09Z"
        ],
        [
         "2025-01-18",
         "2025-02-03T01:58:09Z"
        ],
        [
         "2025-01-17",
         "2025-02-03T01:58:09Z"
        ],
        [
         "2025-01-16",
         "2025-02-03T01:58:09Z"
        ],
        [
         "2025-01-15",
         "2025-02-03T01:58:09Z"
        ],
        [
         "2025-01-14",
         "2025-02-03T01:58:09Z"
        ],
        [
         "2025-01-13",
         "2025-02-03T01:58:09Z"
        ],
        [
         "2025-01-12",
         "2025-02-03T01:58:09Z"
        ],
        [
         "2025-01-11",
         "2025-02-03T01:58:09Z"
        ],
        [
         "2025-01-10",
         "2025-02-03T01:58:09Z"
        ],
        [
         "2025-01-09",
         "2025-02-03T01:58:09Z"
        ],
        [
         "2025-01-08",
         "2025-02-03T01:58:09Z"
        ],
        [
         "2025-01-07",
         "2025-02-03T01:58:09Z"
        ],
        [
         "2025-01-06",
         "2025-02-03T01:58:09Z"
        ],
        [
         "2025-01-05",
         "2025-02-03T01:58:09Z"
        ],
        [
         "2025-01-04",
         "2025-02-03T01:58:09Z"
        ],
        [
         "2025-01-03",
         "2025-02-03T01:58:09Z"
        ],
        [
         "2025-01-02",
         "2025-02-03T01:58:09Z"
        ],
        [
         "2025-01-01",
         "2025-02-03T01:58:09Z"
        ],
        [
         "2024-12-31",
         "2025-01-10T17:00:53Z"
        ],
        [
         "2024-12-30",
         "2025-01-10T17:00:53Z"
        ],
        [
         "2024-12-29",
         "2025-01-10T17:00:53Z"
        ],
        [
         "2024-12-28",
         "2025-01-10T17:00:53Z"
        ],
        [
         "2024-12-27",
         "2025-01-10T17:00:53Z"
        ],
        [
         "2024-12-26",
         "2025-01-10T17:00:53Z"
        ],
        [
         "2024-12-25",
         "2025-01-10T17:00:53Z"
        ],
        [
         "2024-12-24",
         "2025-01-10T17:00:53Z"
        ],
        [
         "2024-12-23",
         "2025-01-10T17:00:53Z"
        ],
        [
         "2024-12-22",
         "2025-01-10T17:00:53Z"
        ],
        [
         "2024-12-21",
         "2025-01-10T17:00:53Z"
        ],
        [
         "2024-12-20",
         "2025-01-10T17:00:53Z"
        ],
        [
         "2024-12-19",
         "2025-01-10T17:00:53Z"
        ],
        [
         "2024-12-18",
         "2025-01-10T17:00:53Z"
        ],
        [
         "2024-12-17",
         "2025-01-10T17:00:53Z"
        ],
        [
         "2024-12-16",
         "2025-01-10T17:00:53Z"
        ],
        [
         "2024-12-15",
         "2025-01-10T17:00:53Z"
        ],
        [
         "2024-12-14",
         "2025-01-10T17:00:53Z"
        ],
        [
         "2024-12-13",
         "2025-01-10T17:00:53Z"
        ],
        [
         "2024-12-12",
         "2025-01-10T17:00:53Z"
        ],
        [
         "2024-12-11",
         "2025-01-10T17:00:53Z"
        ],
        [
         "2024-12-10",
         "2025-01-10T17:00:53Z"
        ],
        [
         "2024-12-09",
         "2025-01-10T17:00:53Z"
        ],
        [
         "2024-12-08",
         "2025-01-10T17:00:53Z"
        ],
        [
         "2024-12-07",
         "2025-01-10T17:00:53Z"
        ],
        [
         "2024-12-06",
         "2025-01-10T17:00:53Z"
        ],
        [
         "2024-12-05",
         "2025-01-10T17:00:53Z"
        ],
        [
         "2024-12-04",
         "2025-01-10T17:00:53Z"
        ],
        [
         "2024-12-03",
         "2025-01-10T17:00:53Z"
        ],
        [
         "2024-12-02",
         "2025-01-10T17:00:53Z"
        ],
        [
         "2024-12-01",
         "2025-01-10T17:00:53Z"
        ],
        [
         "2024-11-30",
         "2025-01-12T14:57:38Z"
        ],
        [
         "2024-11-29",
         "2025-01-12T14:57:38Z"
        ],
        [
         "2024-11-28",
         "2025-01-12T14:57:38Z"
        ],
        [
         "2024-11-27",
         "2025-01-12T14:57:38Z"
        ],
        [
         "2024-11-26",
         "2025-01-12T14:57:38Z"
        ],
        [
         "2024-11-25",
         "2025-01-12T14:57:38Z"
        ],
        [
         "2024-11-24",
         "2025-01-12T14:57:38Z"
        ],
        [
         "2024-11-23",
         "2025-01-12T14:57:38Z"
        ],
        [
         "2024-11-22",
         "2025-01-12T14:57:38Z"
        ],
        [
         "2024-11-21",
         "2025-01-12T14:57:38Z"
        ],
        [
         "2024-11-20",
         "2025-01-12T14:57:38Z"
        ],
        [
         "2024-11-19",
         "2025-01-12T14:57:38Z"
        ],
        [
         "2024-11-18",
         "2025-01-12T14:57:38Z"
        ],
        [
         "2024-11-17",
         "2025-01-12T14:57:38Z"
        ],
        [
         "2024-11-16",
         "2025-01-12T14:57:38Z"
        ],
        [
         "2024-11-15",
         "2025-01-12T14:57:38Z"
        ],
        [
         "2024-11-14",
         "2025-01-12T14:57:38Z"
        ],
        [
         "2024-11-13",
         "2025-01-12T14:57:38Z"
        ],
        [
         "2024-11-12",
         "2025-01-12T14:57:38Z"
        ],
        [
         "2024-11-11",
         "2025-01-12T14:57:38Z"
        ],
        [
         "2024-11-10",
         "2025-01-12T14:57:38Z"
        ],
        [
         "2024-11-09",
         "2025-01-12T14:57:38Z"
        ],
        [
         "2024-11-08",
         "2025-01-12T14:57:38Z"
        ],
        [
         "2024-11-07",
         "2025-01-12T14:57:38Z"
        ],
        [
         "2024-11-06",
         "2025-01-12T14:57:38Z"
        ],
        [
         "2024-11-05",
         "2025-01-12T14:57:38Z"
        ],
        [
         "2024-11-04",
         "2025-01-12T14:57:38Z"
        ],
        [
         "2024-11-03",
         "2025-01-12T14:57:38Z"
        ],
        [
         "2024-11-02",
         "2025-01-12T14:57:38Z"
        ],
        [
         "2024-11-01",
         "2025-01-12T14:57:38Z"
        ],
        [
         "2024-10-31",
         "2024-11-12T13:56:21Z"
        ],
        [
         "2024-10-30",
         "2024-11-12T13:56:21Z"
        ],
        [
         "2024-10-29",
         "2024-11-12T13:56:21Z"
        ],
        [
         "2024-10-28",
         "2024-11-12T13:56:21Z"
        ],
        [
         "2024-10-27",
         "2024-11-12T13:56:21Z"
        ],
        [
         "2024-10-26",
         "2024-11-12T13:56:21Z"
        ],
        [
         "2024-10-25",
         "2024-11-12T13:56:21Z"
        ],
        [
         "2024-10-24",
         "2024-11-12T13:56:21Z"
        ],
        [
         "2024-10-23",
         "2024-11-12T13:56:21Z"
        ],
        [
         "2024-10-22",
         "2024-11-12T13:56:21Z"
        ],
        [
         "2024-10-21",
         "2024-11-12T13:56:21Z"
        ],
        [
         "2024-10-20",
         "2024-11-12T13:56:21Z"
        ],
        [
         "2024-10-19",
         "2024-11-12T13:56:21Z"
        ],
        [
         "2024-10-18",
         "2024-11-12T13:56:21Z"
        ],
        [
         "2024-10-17",
         "2024-11-12T13:56:21Z"
        ],
        [
         "2024-10-16",
         "2024-11-12T13:56:21Z"
        ],
        [
         "2024-10-15",
         "2024-11-12T13:56:21Z"
        ],
        [
         "2024-10-14",
         "2024-11-12T13:56:21Z"
        ],
        [
         "2024-10-13",
         "2024-11-12T13:56:21Z"
        ],
        [
         "2024-10-12",
         "2024-11-12T13:56:21Z"
        ],
        [
         "2024-10-11",
         "2024-11-12T13:56:21Z"
        ],
        [
         "2024-10-10",
         "2024-11-12T13:56:21Z"
        ],
        [
         "2024-10-09",
         "2024-11-12T13:56:21Z"
        ],
        [
         "2024-10-08",
         "2024-11-12T13:56:21Z"
        ],
        [
         "2024-10-07",
         "2024-11-12T13:56:21Z"
        ],
        [
         "2024-10-06",
         "2024-11-12T13:56:21Z"
        ],
        [
         "2024-10-05",
         "2024-11-12T13:56:21Z"
        ],
        [
         "2024-10-04",
         "2024-11-12T13:56:21Z"
        ],
        [
         "2024-10-03",
         "2024-11-12T13:56:21Z"
        ],
        [
         "2024-10-02",
         "2024-11-12T13:56:21Z"
        ],
        [
         "2024-10-01",
         "2024-11-12T13:56:21Z"
        ],
        [
         "2024-09-30",
         "2024-11-12T13:56:45Z"
        ],
        [
         "2024-09-29",
         "2024-11-12T13:56:45Z"
        ],
        [
         "2024-09-28",
         "2024-11-12T13:56:45Z"
        ],
        [
         "2024-09-27",
         "2024-11-12T13:56:45Z"
        ],
        [
         "2024-09-26",
         "2024-11-12T13:56:45Z"
        ],
        [
         "2024-09-25",
         "2024-11-12T13:56:45Z"
        ],
        [
         "2024-09-24",
         "2024-11-12T13:56:45Z"
        ],
        [
         "2024-09-23",
         "2024-11-12T13:56:45Z"
        ],
        [
         "2024-09-22",
         "2024-11-12T13:56:45Z"
        ],
        [
         "2024-09-21",
         "2024-11-12T13:56:45Z"
        ],
        [
         "2024-09-20",
         "2024-11-12T13:56:45Z"
        ],
        [
         "2024-09-19",
         "2024-11-12T13:56:45Z"
        ],
        [
         "2024-09-18",
         "2024-11-12T13:56:45Z"
        ],
        [
         "2024-09-17",
         "2024-11-12T13:56:45Z"
        ],
        [
         "2024-09-16",
         "2024-11-12T13:56:45Z"
        ],
        [
         "2024-09-15",
         "2024-11-12T13:56:45Z"
        ],
        [
         "2024-09-14",
         "2024-11-12T13:56:45Z"
        ],
        [
         "2024-09-13",
         "2024-11-12T13:56:45Z"
        ],
        [
         "2024-09-12",
         "2024-11-12T13:56:45Z"
        ],
        [
         "2024-09-11",
         "2024-11-12T13:56:45Z"
        ],
        [
         "2024-09-10",
         "2024-11-12T13:56:45Z"
        ],
        [
         "2024-09-09",
         "2024-11-12T13:56:45Z"
        ],
        [
         "2024-09-08",
         "2024-11-12T13:56:45Z"
        ],
        [
         "2024-09-07",
         "2024-11-12T13:56:45Z"
        ],
        [
         "2024-09-06",
         "2024-11-12T13:56:45Z"
        ],
        [
         "2024-09-05",
         "2024-11-12T13:56:45Z"
        ],
        [
         "2024-09-04",
         "2024-11-12T13:56:45Z"
        ],
        [
         "2024-09-03",
         "2024-11-12T13:56:45Z"
        ],
        [
         "2024-09-02",
         "2024-11-12T13:56:45Z"
        ],
        [
         "2024-09-01",
         "2024-11-12T13:56:45Z"
        ],
        [
         "2024-08-31",
         "2024-12-02T14:37:13Z"
        ],
        [
         "2024-08-30",
         "2024-12-02T14:37:13Z"
        ],
        [
         "2024-08-29",
         "2024-12-02T14:37:13Z"
        ],
        [
         "2024-08-28",
         "2024-12-02T14:37:13Z"
        ],
        [
         "2024-08-27",
         "2024-12-02T14:37:13Z"
        ],
        [
         "2024-08-26",
         "2024-12-02T14:37:13Z"
        ],
        [
         "2024-08-25",
         "2024-12-02T14:37:13Z"
        ],
        [
         "2024-08-24",
         "2024-12-02T14:37:13Z"
        ],
        [
         "2024-08-23",
         "2024-12-02T14:37:13Z"
        ],
        [
         "2024-08-22",
         "2024-12-02T14:37:13Z"
        ],
        [
         "2024-08-21",
         "2024-12-02T14:37:13Z"
        ],
        [
         "2024-08-20",
         "2024-12-02T14:37:13Z"
        ],
        [
         "2024-08-19",
         "2024-12-02T14:37:13Z"
        ],
        [
         "2024-08-18",
         "2024-12-02T14:37:13Z"
        ],
        [
         "2024-08-17",
         "2024-12-02T14:37:13Z"
        ],
        [
         "2024-08-16",
         "2024-12-02T14:37:13Z"
        ],
        [
         "2024-08-15",
         "2024-12-02T14:37:13Z"
        ],
        [
         "2024-08-14",
         "2024-12-02T14:37:13Z"
        ],
        [
         "2024-08-13",
         "2024-12-02T14:37:13Z"
        ],
        [
         "2024-08-12",
         "2024-12-02T14:37:13Z"
        ],
        [
         "2024-08-11",
         "2024-12-02T14:37:13Z"
        ],
        [
         "2024-08-10",
         "2024-12-02T14:37:13Z"
        ],
        [
         "2024-08-09",
         "2024-12-02T14:37:13Z"
        ],
        [
         "2024-08-08",
         "2024-12-02T14:37:13Z"
        ],
        [
         "2024-08-07",
         "2024-12-02T14:37:13Z"
        ],
        [
         "2024-08-06",
         "2024-12-02T14:37:13Z"
        ],
        [
         "2024-08-05",
         "2024-12-02T14:37:13Z"
        ],
        [
         "2024-08-04",
         "2024-12-02T14:37:13Z"
        ],
        [
         "2024-08-03",
         "2024-12-02T14:37:13Z"
        ],
        [
         "2024-08-02",
         "2024-12-02T14:37:13Z"
        ],
        [
         "2024-08-01",
         "2024-12-02T14:37:13Z"
        ],
        [
         "2024-07-31",
         "2024-12-02T14:38:22Z"
        ],
        [
         "2024-07-30",
         "2024-12-02T14:38:22Z"
        ],
        [
         "2024-07-29",
         "2024-12-02T14:38:22Z"
        ],
        [
         "2024-07-28",
         "2024-12-02T14:38:22Z"
        ],
        [
         "2024-07-27",
         "2024-12-02T14:38:22Z"
        ],
        [
         "2024-07-26",
         "2024-12-02T14:38:22Z"
        ],
        [
         "2024-07-25",
         "2024-12-02T14:38:22Z"
        ],
        [
         "2024-07-24",
         "2024-12-02T14:38:22Z"
        ],
        [
         "2024-07-23",
         "2024-12-02T14:38:22Z"
        ],
        [
         "2024-07-22",
         "2024-12-02T14:38:22Z"
        ],
        [
         "2024-07-21",
         "2024-12-02T14:38:22Z"
        ],
        [
         "2024-07-20",
         "2024-12-02T14:38:22Z"
        ],
        [
         "2024-07-19",
         "2024-12-02T14:38:22Z"
        ],
        [
         "2024-07-18",
         "2024-12-02T14:38:22Z"
        ],
        [
         "2024-07-17",
         "2024-12-02T14:38:22Z"
        ],
        [
         "2024-07-16",
         "2024-12-02T14:38:22Z"
        ],
        [
         "2024-07-15",
         "2024-12-02T14:38:22Z"
        ],
        [
         "2024-07-14",
         "2024-12-02T14:38:22Z"
        ],
        [
         "2024-07-13",
         "2024-12-02T14:38:22Z"
        ],
        [
         "2024-07-12",
         "2024-12-02T14:38:22Z"
        ],
        [
         "2024-07-11",
         "2024-12-02T14:38:22Z"
        ],
        [
         "2024-07-10",
         "2024-12-02T14:38:22Z"
        ],
        [
         "2024-07-09",
         "2024-12-02T14:38:22Z"
        ],
        [
         "2024-07-08",
         "2024-12-02T14:38:22Z"
        ],
        [
         "2024-07-07",
         "2024-12-02T14:38:22Z"
        ],
        [
         "2024-07-06",
         "2024-12-02T14:38:22Z"
        ],
        [
         "2024-07-05",
         "2024-12-02T14:38:22Z"
        ],
        [
         "2024-07-04",
         "2024-12-02T14:38:22Z"
        ],
        [
         "2024-07-03",
         "2024-12-02T14:38:22Z"
        ],
        [
         "2024-07-02",
         "2024-12-02T14:38:22Z"
        ],
        [
         "2024-07-01",
         "2024-12-02T14:38:22Z"
        ],
        [
         "2024-06-30",
         "2024-12-02T14:38:52Z"
        ],
        [
         "2024-06-29",
         "2024-12-02T14:38:52Z"
        ],
        [
         "2024-06-28",
         "2024-12-02T14:38:52Z"
        ],
        [
         "2024-06-27",
         "2024-12-02T14:38:52Z"
        ],
        [
         "2024-06-26",
         "2024-12-02T14:38:52Z"
        ],
        [
         "2024-06-25",
         "2024-12-02T14:38:52Z"
        ],
        [
         "2024-06-24",
         "2024-12-02T14:38:52Z"
        ],
        [
         "2024-06-23",
         "2024-12-02T14:38:52Z"
        ],
        [
         "2024-06-22",
         "2024-12-02T14:38:52Z"
        ],
        [
         "2024-06-21",
         "2024-12-02T14:38:52Z"
        ],
        [
         "2024-06-20",
         "2024-12-02T14:38:52Z"
        ],
        [
         "2024-06-19",
         "2024-12-02T14:38:52Z"
        ],
        [
         "2024-06-18",
         "2024-12-02T14:38:52Z"
        ],
        [
         "2024-06-17",
         "2024-12-02T14:38:52Z"
        ],
        [
         "2024-06-16",
         "2024-12-02T14:38:52Z"
        ],
        [
         "2024-06-15",
         "2024-12-02T14:38:52Z"
        ],
        [
         "2024-06-14",
         "2024-12-02T14:38:52Z"
        ],
        [
         "2024-06-13",
         "2024-12-02T14:38:52Z"
        ],
        [
         "2024-06-12",
         "2024-12-02T14:38:52Z"
        ],
        [
         "2024-06-11",
         "2024-12-02T14:38:52Z"
        ],
        [
         "2024-06-10",
         "2024-12-02T14:38:52Z"
        ],
        [
         "2024-06-09",
         "2024-12-02T14:38:52Z"
        ],
        [
         "2024-06-08",
         "2024-12-02T14:38:52Z"
        ],
        [
         "2024-06-07",
         "2024-12-02T14:38:52Z"
        ],
        [
         "2024-06-06",
         "2024-12-02T14:38:52Z"
        ],
        [
         "2024-06-05",
         "2024-12-02T14:38:52Z"
        ],
        [
         "2024-06-04",
         "2024-12-02T14:38:52Z"
        ],
        [
         "2024-06-03",
         "2024-12-02T14:38:52Z"
        ],
        [
         "2024-06-02",
         "2024-12-02T14:38:52Z"
        ],
        [
         "2024-06-01",
         "2024-12-02T14:38:52Z"
        ],
        [
         "2024-05-31",
         "2024-12-02T14:39:26Z"
        ],
        [
         "2024-05-30",
         "2024-12-02T14:39:26Z"
        ],
        [
         "2024-05-29",
         "2024-12-02T14:39:26Z"
        ],
        [
         "2024-05-28",
         "2024-12-02T14:39:26Z"
        ],
        [
         "2024-05-27",
         "2024-12-02T14:39:26Z"
        ],
        [
         "2024-05-26",
         "2024-12-02T14:39:26Z"
        ],
        [
         "2024-05-25",
         "2024-12-02T14:39:26Z"
        ],
        [
         "2024-05-24",
         "2024-12-02T14:39:26Z"
        ],
        [
         "2024-05-23",
         "2024-12-02T14:39:26Z"
        ],
        [
         "2024-05-22",
         "2024-12-02T14:39:26Z"
        ],
        [
         "2024-05-21",
         "2024-12-02T14:39:26Z"
        ],
        [
         "2024-05-20",
         "2024-12-02T14:39:26Z"
        ],
        [
         "2024-05-19",
         "2024-12-02T14:39:26Z"
        ],
        [
         "2024-05-18",
         "2024-12-02T14:39:26Z"
        ],
        [
         "2024-05-17",
         "2024-12-02T14:39:26Z"
        ],
        [
         "2024-05-16",
         "2024-12-02T14:39:26Z"
        ],
        [
         "2024-05-15",
         "2024-12-02T14:39:26Z"
        ],
        [
         "2024-05-14",
         "2024-12-02T14:39:26Z"
        ],
        [
         "2024-05-13",
         "2024-12-02T14:39:26Z"
        ],
        [
         "2024-05-12",
         "2024-12-02T14:39:26Z"
        ],
        [
         "2024-05-11",
         "2024-12-02T14:39:26Z"
        ],
        [
         "2024-05-10",
         "2024-12-02T14:39:26Z"
        ],
        [
         "2024-05-09",
         "2024-12-02T14:39:26Z"
        ],
        [
         "2024-05-08",
         "2024-12-02T14:39:26Z"
        ],
        [
         "2024-05-07",
         "2024-12-02T14:39:26Z"
        ],
        [
         "2024-05-06",
         "2024-12-02T14:39:26Z"
        ],
        [
         "2024-05-05",
         "2024-12-02T14:39:26Z"
        ],
        [
         "2024-05-04",
         "2024-12-02T14:39:26Z"
        ],
        [
         "2024-05-03",
         "2024-12-02T14:39:26Z"
        ],
        [
         "2024-05-02",
         "2024-12-02T14:39:26Z"
        ],
        [
         "2024-05-01",
         "2024-12-02T14:39:26Z"
        ],
        [
         "2024-04-30",
         "2024-12-02T14:36:56Z"
        ],
        [
         "2024-04-29",
         "2024-12-02T14:36:56Z"
        ],
        [
         "2024-04-28",
         "2024-12-02T14:36:56Z"
        ],
        [
         "2024-04-27",
         "2024-12-02T14:36:56Z"
        ],
        [
         "2024-04-26",
         "2024-12-02T14:36:56Z"
        ],
        [
         "2024-04-25",
         "2024-12-02T14:36:56Z"
        ],
        [
         "2024-04-24",
         "2024-12-02T14:36:56Z"
        ],
        [
         "2024-04-23",
         "2024-12-02T14:36:56Z"
        ],
        [
         "2024-04-22",
         "2024-12-02T14:36:56Z"
        ],
        [
         "2024-04-21",
         "2024-12-02T14:36:56Z"
        ],
        [
         "2024-04-20",
         "2024-12-02T14:36:56Z"
        ],
        [
         "2024-04-19",
         "2024-12-02T14:36:56Z"
        ],
        [
         "2024-04-18",
         "2024-12-02T14:36:56Z"
        ],
        [
         "2024-04-17",
         "2024-12-02T14:36:56Z"
        ],
        [
         "2024-04-16",
         "2024-12-02T14:36:56Z"
        ],
        [
         "2024-04-15",
         "2024-12-02T14:36:56Z"
        ],
        [
         "2024-04-14",
         "2024-12-02T14:36:56Z"
        ],
        [
         "2024-04-13",
         "2024-12-02T14:36:56Z"
        ],
        [
         "2024-04-12",
         "2024-12-02T14:36:56Z"
        ],
        [
         "2024-04-11",
         "2024-12-02T14:36:56Z"
        ],
        [
         "2024-04-10",
         "2024-12-02T14:36:56Z"
        ],
        [
         "2024-04-09",
         "2024-12-02T14:36:56Z"
        ],
        [
         "2024-04-08",
         "2024-12-02T14:36:56Z"
        ],
        [
         "2024-04-07",
         "2024-12-02T14:36:56Z"
        ],
        [
         "2024-04-06",
         "2024-12-02T14:36:56Z"
        ],
        [
         "2024-04-05",
         "2024-12-02T14:36:56Z"
        ],
        [
         "2024-04-04",
         "2024-12-02T14:36:56Z"
        ],
        [
         "2024-04-03",
         "2024-12-02T14:36:56Z"
        ],
        [
         "2024-04-02",
         "2024-12-02T14:36:56Z"
        ],
        [
         "2024-04-01",
         "2024-12-02T14:36:56Z"
        ],
        [
         "2024-03-31",
         "2024-12-02T14:39:08Z"
        ],
        [
         "2024-03-30",
         "2024-12-02T14:39:08Z"
        ],
        [
         "2024-03-29",
         "2024-12-02T14:39:08Z"
        ],
        [
         "2024-03-28",
         "2024-12-02T14:39:08Z"
        ],
        [
         "2024-03-27",
         "2024-12-02T14:39:08Z"
        ],
        [
         "2024-03-26",
         "2024-12-02T14:39:08Z"
        ],
        [
         "2024-03-25",
         "2024-12-02T14:39:08Z"
        ],
        [
         "2024-03-24",
         "2024-12-02T14:39:08Z"
        ],
        [
         "2024-03-23",
         "2024-12-02T14:39:08Z"
        ],
        [
         "2024-03-22",
         "2024-12-02T14:39:08Z"
        ],
        [
         "2024-03-21",
         "2024-12-02T14:39:08Z"
        ],
        [
         "2024-03-20",
         "2024-12-02T14:39:08Z"
        ],
        [
         "2024-03-19",
         "2024-12-02T14:39:08Z"
        ],
        [
         "2024-03-18",
         "2024-12-02T14:39:08Z"
        ],
        [
         "2024-03-17",
         "2024-12-02T14:39:08Z"
        ],
        [
         "2024-03-16",
         "2024-12-02T14:39:08Z"
        ],
        [
         "2024-03-15",
         "2024-12-02T14:39:08Z"
        ],
        [
         "2024-03-14",
         "2024-12-02T14:39:08Z"
        ],
        [
         "2024-03-13",
         "2024-12-02T14:39:08Z"
        ],
        [
         "2024-03-12",
         "2024-12-02T14:39:08Z"
        ],
        [
         "2024-03-11",
         "2024-12-02T14:39:08Z"
        ],
        [
         "2024-03-10",
         "2024-12-02T14:39:08Z"
        ],
        [
         "2024-03-09",
         "2024-12-02T14:39:08Z"
        ],
        [
         "2024-03-08",
         "2024-12-02T14:39:08Z"
        ],
        [
         "2024-03-07",
         "2024-12-02T14:39:08Z"
        ],
        [
         "2024-03-06",
         "2024-12-02T14:39:08Z"
        ],
        [
         "2024-03-05",
         "2024-12-02T14:39:08Z"
        ],
        [
         "2024-03-04",
         "2024-12-02T14:39:08Z"
        ],
        [
         "2024-03-03",
         "2024-12-02T14:39:08Z"
        ],
        [
         "2024-03-02",
         "2024-12-02T14:39:08Z"
        ],
        [
         "2024-03-01",
         "2024-12-02T14:39:08Z"
        ],
        [
         "2024-02-29",
         "2024-12-02T14:37:39Z"
        ],
        [
         "2024-02-28",
         "2024-12-02T14:37:39Z"
        ],
        [
         "2024-02-27",
         "2024-12-02T14:37:39Z"
        ],
        [
         "2024-02-26",
         "2024-12-02T14:37:39Z"
        ],
        [
         "2024-02-25",
         "2024-12-02T14:37:39Z"
        ],
        [
         "2024-02-24",
         "2024-12-02T14:37:39Z"
        ],
        [
         "2024-02-23",
         "2024-12-02T14:37:39Z"
        ],
        [
         "2024-02-22",
         "2024-12-02T14:37:39Z"
        ],
        [
         "2024-02-21",
         "2024-12-02T14:37:39Z"
        ],
        [
         "2024-02-20",
         "2024-12-02T14:37:39Z"
        ],
        [
         "2024-02-19",
         "2024-12-02T14:37:39Z"
        ],
        [
         "2024-02-18",
         "2024-12-02T14:37:39Z"
        ],
        [
         "2024-02-17",
         "2024-12-02T14:37:39Z"
        ],
        [
         "2024-02-16",
         "2024-12-02T14:37:39Z"
        ],
        [
         "2024-02-15",
         "2024-12-02T14:37:39Z"
        ],
        [
         "2024-02-14",
         "2024-12-02T14:37:39Z"
        ],
        [
         "2024-02-13",
         "2024-12-02T14:37:39Z"
        ],
        [
         "2024-02-12",
         "2024-12-02T14:37:39Z"
        ],
        [
         "2024-02-11",
         "2024-12-02T14:37:39Z"
        ],
        [
         "2024-02-10",
         "2024-12-02T14:37:39Z"
        ],
        [
         "2024-02-09",
         "2024-12-02T14:37:39Z"
        ],
        [
         "2024-02-08",
         "2024-12-02T14:37:39Z"
        ],
        [
         "2024-02-07",
         "2024-12-02T14:37:39Z"
        ],
        [
         "2024-02-06",
         "2024-12-02T14:37:39Z"
        ],
        [
         "2024-02-05",
         "2024-12-02T14:37:39Z"
        ],
        [
         "2024-02-04",
         "2024-12-02T14:37:39Z"
        ],
        [
         "2024-02-03",
         "2024-12-02T14:37:39Z"
        ],
        [
         "2024-02-02",
         "2024-12-02T14:37:39Z"
        ],
        [
         "2024-02-01",
         "2024-12-02T14:37:39Z"
        ],
        [
         "2024-01-31",
         "2024-12-02T14:35:11Z"
        ],
        [
         "2024-01-30",
         "2024-12-02T14:35:11Z"
        ],
        [
         "2024-01-29",
         "2024-12-02T14:35:11Z"
        ],
        [
         "2024-01-28",
         "2024-12-02T14:35:11Z"
        ],
        [
         "2024-01-27",
         "2024-12-02T14:35:11Z"
        ],
        [
         "2024-01-26",
         "2024-12-02T14:35:11Z"
        ],
        [
         "2024-01-25",
         "2024-12-02T14:35:11Z"
        ],
        [
         "2024-01-24",
         "2024-12-02T14:35:11Z"
        ],
        [
         "2024-01-23",
         "2024-12-02T14:35:11Z"
        ],
        [
         "2024-01-22",
         "2024-12-02T14:35:11Z"
        ],
        [
         "2024-01-21",
         "2024-12-02T14:35:11Z"
        ],
        [
         "2024-01-20",
         "2024-12-02T14:35:11Z"
        ],
        [
         "2024-01-19",
         "2024-12-02T14:35:11Z"
        ],
        [
         "2024-01-18",
         "2024-12-02T14:35:11Z"
        ],
        [
         "2024-01-17",
         "2024-12-02T14:35:11Z"
        ],
        [
         "2024-01-16",
         "2024-12-02T14:35:11Z"
        ],
        [
         "2024-01-15",
         "2024-12-02T14:35:11Z"
        ],
        [
         "2024-01-14",
         "2024-12-02T14:35:11Z"
        ],
        [
         "2024-01-13",
         "2024-12-02T14:35:11Z"
        ],
        [
         "2024-01-12",
         "2024-12-02T14:35:11Z"
        ],
        [
         "2024-01-11",
         "2024-12-02T14:35:11Z"
        ],
        [
         "2024-01-10",
         "2024-12-02T14:35:11Z"
        ],
        [
         "2024-01-09",
         "2024-12-02T14:35:11Z"
        ],
        [
         "2024-01-08",
         "2024-12-02T14:35:11Z"
        ],
        [
         "2024-01-07",
         "2024-12-02T14:35:11Z"
        ],
        [
         "2024-01-06",
         "2024-12-02T14:35:11Z"
        ],
        [
         "2024-01-05",
         "2024-12-02T14:35:11Z"
        ],
        [
         "2024-01-04",
         "2024-12-02T14:35:11Z"
        ],
        [
         "2024-01-03",
         "2024-12-02T14:35:11Z"
        ],
        [
         "2024-01-02",
         "2024-12-02T14:35:11Z"
        ],
        [
         "2024-01-01",
         "2024-12-02T14:35:11Z"
        ],
        [
         "2023-12-31",
         "2024-12-02T14:34:23Z"
        ],
        [
         "2023-12-30",
         "2024-12-02T14:34:23Z"
        ],
        [
         "2023-12-29",
         "2024-12-02T14:34:23Z"
        ],
        [
         "2023-12-28",
         "2024-12-02T14:34:23Z"
        ],
        [
         "2023-12-27",
         "2024-12-02T14:34:23Z"
        ],
        [
         "2023-12-26",
         "2024-12-02T14:34:23Z"
        ],
        [
         "2023-12-25",
         "2024-12-02T14:34:23Z"
        ],
        [
         "2023-12-24",
         "2024-12-02T14:34:23Z"
        ],
        [
         "2023-12-23",
         "2024-12-02T14:34:23Z"
        ],
        [
         "2023-12-22",
         "2024-12-02T14:34:23Z"
        ],
        [
         "2023-12-21",
         "2024-12-02T14:34:23Z"
        ],
        [
         "2023-12-20",
         "2024-12-02T14:34:23Z"
        ],
        [
         "2023-12-19",
         "2024-12-02T14:34:23Z"
        ],
        [
         "2023-12-18",
         "2024-12-02T14:34:23Z"
        ],
        [
         "2023-12-17",
         "2024-12-02T14:34:23Z"
        ],
        [
         "2023-12-16",
         "2024-12-02T14:34:23Z"
        ],
        [
         "2023-12-15",
         "2024-12-02T14:34:23Z"
        ],
        [
         "2023-12-14",
         "2024-12-02T14:34:23Z"
        ],
        [
         "2023-12-13",
         "2024-12-02T14:34:23Z"
        ],
        [
         "2023-12-12",
         "2024-12-02T14:34:23Z"
        ],
        [
         "2023-12-11",
         "2024-12-02T14:34:23Z"
        ],
        [
         "2023-12-10",
         "2024-12-02T14:34:23Z"
        ],
        [
         "2023-12-09",
         "2024-12-02T14:34:23Z"
        ],
        [
         "2023-12-08",
         "2024-12-02T14:34:23Z"
        ],
        [
         "2023-12-07",
         "2024-12-02T14:34:23Z"
        ],
        [
         "2023-12-06",
         "2024-12-02T14:34:23Z"
        ],
        [
         "2023-12-05",
         "2024-12-02T14:34:23Z"
        ],
        [
         "2023-12-04",
         "2024-12-02T14:34:23Z"
        ],
        [
         "2023-12-03",
         "2024-12-02T14:34:23Z"
        ],
        [
         "2023-12-02",
         "2024-12-02T14:34:23Z"
        ],
        [
         "2023-12-01",
         "2024-12-02T14:34:23Z"
        ],
        [
         "2023-11-30",
         "2024-12-02T14:36:28Z"
        ],
        [
         "2023-11-29",
         "2024-12-02T14:36:28Z"
        ],
        [
         "2023-11-28",
         "2024-12-02T14:36:28Z"
        ],
        [
         "2023-11-27",
         "2024-12-02T14:36:28Z"
        ],
        [
         "2023-11-26",
         "2024-12-02T14:36:28Z"
        ],
        [
         "2023-11-25",
         "2024-12-02T14:36:28Z"
        ],
        [
         "2023-11-24",
         "2024-12-02T14:36:28Z"
        ],
        [
         "2023-11-23",
         "2024-12-02T14:36:28Z"
        ],
        [
         "2023-11-22",
         "2024-12-02T14:36:28Z"
        ],
        [
         "2023-11-21",
         "2024-12-02T14:36:28Z"
        ],
        [
         "2023-11-20",
         "2024-12-02T14:36:28Z"
        ],
        [
         "2023-11-19",
         "2024-12-02T14:36:28Z"
        ],
        [
         "2023-11-18",
         "2024-12-02T14:36:28Z"
        ],
        [
         "2023-11-17",
         "2024-12-02T14:36:28Z"
        ],
        [
         "2023-11-16",
         "2024-12-02T14:36:28Z"
        ],
        [
         "2023-11-15",
         "2024-12-02T14:36:28Z"
        ],
        [
         "2023-11-14",
         "2024-12-02T14:36:28Z"
        ],
        [
         "2023-11-13",
         "2024-12-02T14:36:28Z"
        ],
        [
         "2023-11-12",
         "2024-12-02T14:36:28Z"
        ],
        [
         "2023-11-11",
         "2024-12-02T14:36:28Z"
        ],
        [
         "2023-11-10",
         "2024-12-02T14:36:28Z"
        ],
        [
         "2023-11-09",
         "2024-12-02T14:36:28Z"
        ],
        [
         "2023-11-08",
         "2024-12-02T14:36:28Z"
        ],
        [
         "2023-11-07",
         "2024-12-02T14:36:28Z"
        ],
        [
         "2023-11-06",
         "2024-12-02T14:36:28Z"
        ],
        [
         "2023-11-05",
         "2024-12-02T14:36:28Z"
        ],
        [
         "2023-11-04",
         "2024-12-02T14:36:28Z"
        ],
        [
         "2023-11-03",
         "2024-12-02T14:36:28Z"
        ],
        [
         "2023-11-02",
         "2024-12-02T14:36:28Z"
        ]
       ],
       "datasetInfos": [],
       "dbfsResultPath": null,
       "isJsonSchema": true,
       "metadata": {
        "dataframeName": "_sqldf",
        "executionCount": 5
       },
       "overflow": false,
       "plotOptions": {
        "customPlotOptions": {},
        "displayType": "table",
        "pivotAggregation": null,
        "pivotColumns": null,
        "xColumns": null,
        "yColumns": null
       },
       "removedWidgets": [],
       "schema": [
        {
         "metadata": "{}",
         "name": "UsageDateTime",
         "type": "\"date\""
        },
        {
         "metadata": "{}",
         "name": "LastExtractionDate",
         "type": "\"timestamp\""
        }
       ],
       "type": "table"
      }
     },
     "output_type": "display_data"
    }
   ],
   "source": [
    "%sql\n",
    "SELECT DISTINCT UsageDateTime, LastExtractionDate\n",
    "FROM gold.azure_costs_2\n",
    "ORDER BY UsageDateTime DESC"
   ]
  },
  {
   "cell_type": "code",
   "execution_count": 0,
   "metadata": {
    "application/vnd.databricks.v1+cell": {
     "cellMetadata": {
      "byteLimit": 2048000,
      "implicitDf": true,
      "rowLimit": 10000
     },
     "inputWidgets": {},
     "nuid": "a0f66e47-1edb-4e42-8f4e-991d9e03b8de",
     "showTitle": false,
     "tableResultSettingsMap": {},
     "title": ""
    }
   },
   "outputs": [
    {
     "output_type": "display_data",
     "data": {
      "text/html": [
       "<style scoped>\n",
       "  .table-result-container {\n",
       "    max-height: 300px;\n",
       "    overflow: auto;\n",
       "  }\n",
       "  table, th, td {\n",
       "    border: 1px solid black;\n",
       "    border-collapse: collapse;\n",
       "  }\n",
       "  th, td {\n",
       "    padding: 5px;\n",
       "  }\n",
       "  th {\n",
       "    text-align: left;\n",
       "  }\n",
       "</style><div class='table-result-container'><table class='table-result'><thead style='background-color: white'><tr><th>FilePath</th><th>LastExtractionDate</th><th>LastExtractionMonth</th></tr></thead><tbody><tr><td>abfss://costs@enxpowerbidatalakeqa.dfs.core.windows.net/powerbi-costs/enxcf-CF_Subscription_Costs/20250201-20250228/enxcf-CF_Subscription_Costs_752b65e9-3e08-49e2-a7b4-54d38fbc5512.csv</td><td>2025-02-03T01:57:18Z</td><td>202502</td></tr><tr><td>abfss://costs@enxpowerbidatalakeqa.dfs.core.windows.net/powerbi-costs/enxcf-CF_Subscription_Costs/20250101-20250131/enxcf-CF_Subscription_Costs_308e1884-6ed9-4823-bd81-cd59140c5dd9.csv</td><td>2025-02-03T01:58:09Z</td><td>202501</td></tr><tr><td>abfss://costs@enxpowerbidatalakeqa.dfs.core.windows.net/powerbi-costs/powerbi-costs/20241201-20241231/dez2024</td><td>2025-01-10T17:00:53Z</td><td>202412</td></tr><tr><td>abfss://costs@enxpowerbidatalakeqa.dfs.core.windows.net/powerbi-costs/powerbi-costs/20241101-20241130/nov2024</td><td>2025-01-12T14:57:38Z</td><td>202411</td></tr><tr><td>abfss://costs@enxpowerbidatalakeqa.dfs.core.windows.net/powerbi-costs/powerbi-costs/20241001-20241031/powerbi-costs_October.csv</td><td>2024-11-12T13:56:21Z</td><td>202410</td></tr><tr><td>abfss://costs@enxpowerbidatalakeqa.dfs.core.windows.net/powerbi-costs/powerbi-costs/20240901-20240930/powerbi-costs_september.csv</td><td>2024-11-12T13:56:45Z</td><td>202409</td></tr><tr><td>abfss://costs@enxpowerbidatalakeqa.dfs.core.windows.net/powerbi-costs/powerbi-costs/20240801-20240831/powerbi-costs_ago2024.csv</td><td>2024-12-02T14:37:13Z</td><td>202408</td></tr><tr><td>abfss://costs@enxpowerbidatalakeqa.dfs.core.windows.net/powerbi-costs/powerbi-costs/20240701-20240731/powerbi-costs_jul2024.csv</td><td>2024-12-02T14:38:22Z</td><td>202407</td></tr><tr><td>abfss://costs@enxpowerbidatalakeqa.dfs.core.windows.net/powerbi-costs/powerbi-costs/20240601-20240630/powerbi-costs_jun2024.csv</td><td>2024-12-02T14:38:52Z</td><td>202406</td></tr><tr><td>abfss://costs@enxpowerbidatalakeqa.dfs.core.windows.net/powerbi-costs/powerbi-costs/20240501-20240531/powerbi-costs_may2024.csv</td><td>2024-12-02T14:39:26Z</td><td>202405</td></tr><tr><td>abfss://costs@enxpowerbidatalakeqa.dfs.core.windows.net/powerbi-costs/powerbi-costs/20240401-20240430/powerbi-costs_abril2024.csv</td><td>2024-12-02T14:36:56Z</td><td>202404</td></tr><tr><td>abfss://costs@enxpowerbidatalakeqa.dfs.core.windows.net/powerbi-costs/powerbi-costs/20240301-20240331/powerbi-costs_mar2024.csv</td><td>2024-12-02T14:39:08Z</td><td>202403</td></tr><tr><td>abfss://costs@enxpowerbidatalakeqa.dfs.core.windows.net/powerbi-costs/powerbi-costs/20240201-20240229/powerbi-costs_feb2024.csv</td><td>2024-12-02T14:37:39Z</td><td>202402</td></tr><tr><td>abfss://costs@enxpowerbidatalakeqa.dfs.core.windows.net/powerbi-costs/powerbi-costs/20240101-20240131/powerbi-costs_jan2024.csv</td><td>2024-12-02T14:35:11Z</td><td>202401</td></tr><tr><td>abfss://costs@enxpowerbidatalakeqa.dfs.core.windows.net/powerbi-costs/powerbi-costs/20231201-20231231/powebi-costs-December2023.csv</td><td>2024-12-02T14:34:23Z</td><td>202312</td></tr><tr><td>abfss://costs@enxpowerbidatalakeqa.dfs.core.windows.net/powerbi-costs/powerbi-costs/20231101-20231130/powerbi-costs-november2023.csv</td><td>2024-12-02T14:36:28Z</td><td>202311</td></tr></tbody></table></div>"
      ]
     },
     "metadata": {
      "application/vnd.databricks.v1+output": {
       "addedWidgets": {},
       "aggData": [],
       "aggError": "",
       "aggOverflow": false,
       "aggSchema": [],
       "aggSeriesLimitReached": false,
       "aggType": "",
       "arguments": {},
       "columnCustomDisplayInfos": {},
       "data": [
        [
         "abfss://costs@enxpowerbidatalakeqa.dfs.core.windows.net/powerbi-costs/enxcf-CF_Subscription_Costs/20250201-20250228/enxcf-CF_Subscription_Costs_752b65e9-3e08-49e2-a7b4-54d38fbc5512.csv",
         "2025-02-03T01:57:18Z",
         "202502"
        ],
        [
         "abfss://costs@enxpowerbidatalakeqa.dfs.core.windows.net/powerbi-costs/enxcf-CF_Subscription_Costs/20250101-20250131/enxcf-CF_Subscription_Costs_308e1884-6ed9-4823-bd81-cd59140c5dd9.csv",
         "2025-02-03T01:58:09Z",
         "202501"
        ],
        [
         "abfss://costs@enxpowerbidatalakeqa.dfs.core.windows.net/powerbi-costs/powerbi-costs/20241201-20241231/dez2024",
         "2025-01-10T17:00:53Z",
         "202412"
        ],
        [
         "abfss://costs@enxpowerbidatalakeqa.dfs.core.windows.net/powerbi-costs/powerbi-costs/20241101-20241130/nov2024",
         "2025-01-12T14:57:38Z",
         "202411"
        ],
        [
         "abfss://costs@enxpowerbidatalakeqa.dfs.core.windows.net/powerbi-costs/powerbi-costs/20241001-20241031/powerbi-costs_October.csv",
         "2024-11-12T13:56:21Z",
         "202410"
        ],
        [
         "abfss://costs@enxpowerbidatalakeqa.dfs.core.windows.net/powerbi-costs/powerbi-costs/20240901-20240930/powerbi-costs_september.csv",
         "2024-11-12T13:56:45Z",
         "202409"
        ],
        [
         "abfss://costs@enxpowerbidatalakeqa.dfs.core.windows.net/powerbi-costs/powerbi-costs/20240801-20240831/powerbi-costs_ago2024.csv",
         "2024-12-02T14:37:13Z",
         "202408"
        ],
        [
         "abfss://costs@enxpowerbidatalakeqa.dfs.core.windows.net/powerbi-costs/powerbi-costs/20240701-20240731/powerbi-costs_jul2024.csv",
         "2024-12-02T14:38:22Z",
         "202407"
        ],
        [
         "abfss://costs@enxpowerbidatalakeqa.dfs.core.windows.net/powerbi-costs/powerbi-costs/20240601-20240630/powerbi-costs_jun2024.csv",
         "2024-12-02T14:38:52Z",
         "202406"
        ],
        [
         "abfss://costs@enxpowerbidatalakeqa.dfs.core.windows.net/powerbi-costs/powerbi-costs/20240501-20240531/powerbi-costs_may2024.csv",
         "2024-12-02T14:39:26Z",
         "202405"
        ],
        [
         "abfss://costs@enxpowerbidatalakeqa.dfs.core.windows.net/powerbi-costs/powerbi-costs/20240401-20240430/powerbi-costs_abril2024.csv",
         "2024-12-02T14:36:56Z",
         "202404"
        ],
        [
         "abfss://costs@enxpowerbidatalakeqa.dfs.core.windows.net/powerbi-costs/powerbi-costs/20240301-20240331/powerbi-costs_mar2024.csv",
         "2024-12-02T14:39:08Z",
         "202403"
        ],
        [
         "abfss://costs@enxpowerbidatalakeqa.dfs.core.windows.net/powerbi-costs/powerbi-costs/20240201-20240229/powerbi-costs_feb2024.csv",
         "2024-12-02T14:37:39Z",
         "202402"
        ],
        [
         "abfss://costs@enxpowerbidatalakeqa.dfs.core.windows.net/powerbi-costs/powerbi-costs/20240101-20240131/powerbi-costs_jan2024.csv",
         "2024-12-02T14:35:11Z",
         "202401"
        ],
        [
         "abfss://costs@enxpowerbidatalakeqa.dfs.core.windows.net/powerbi-costs/powerbi-costs/20231201-20231231/powebi-costs-December2023.csv",
         "2024-12-02T14:34:23Z",
         "202312"
        ],
        [
         "abfss://costs@enxpowerbidatalakeqa.dfs.core.windows.net/powerbi-costs/powerbi-costs/20231101-20231130/powerbi-costs-november2023.csv",
         "2024-12-02T14:36:28Z",
         "202311"
        ]
       ],
       "datasetInfos": [],
       "dbfsResultPath": null,
       "isJsonSchema": true,
       "metadata": {
        "dataframeName": "_sqldf",
        "executionCount": 6
       },
       "overflow": false,
       "plotOptions": {
        "customPlotOptions": {},
        "displayType": "table",
        "pivotAggregation": null,
        "pivotColumns": null,
        "xColumns": null,
        "yColumns": null
       },
       "removedWidgets": [],
       "schema": [
        {
         "metadata": "{}",
         "name": "FilePath",
         "type": "\"string\""
        },
        {
         "metadata": "{}",
         "name": "LastExtractionDate",
         "type": "\"timestamp\""
        },
        {
         "metadata": "{}",
         "name": "LastExtractionMonth",
         "type": "\"string\""
        }
       ],
       "type": "table"
      }
     },
     "output_type": "display_data"
    }
   ],
   "source": [
    "%sql\n",
    "select distinct FilePath, LastExtractionDate, LastExtractionMonth from gold.azure_costs_2 order by LastExtractionMonth desc"
   ]
  }
 ],
 "metadata": {
  "application/vnd.databricks.v1+notebook": {
   "computePreferences": null,
   "dashboards": [],
   "environmentMetadata": {
    "base_environment": "",
    "environment_version": "1"
   },
   "language": "python",
   "notebookMetadata": {
    "mostRecentlyExecutedCommandWithImplicitDF": {
     "commandId": 6602129842326145,
     "dataframes": [
      "_sqldf"
     ]
    },
    "pythonIndentUnit": 4
   },
   "notebookName": "Build Gold Tables",
   "widgets": {
    "FileSystemName": {
     "currentValue": "costs",
     "nuid": "25276aae-dd1f-4c91-8bd6-28f763e3e50e",
     "typedWidgetInfo": {
      "autoCreated": false,
      "defaultValue": "costs",
      "label": "The name of the file system within the storage account.",
      "name": "FileSystemName",
      "options": {
       "widgetDisplayType": "Text",
       "validationRegex": null
      },
      "parameterDataType": "String"
     },
     "widgetInfo": {
      "widgetType": "text",
      "defaultValue": "costs",
      "label": "The name of the file system within the storage account.",
      "name": "FileSystemName",
      "options": {
       "widgetType": "text",
       "autoCreated": null,
       "validationRegex": null
      }
     }
    },
    "StorageAccountName": {
     "currentValue": "enxpowerbidatalakeqa",
     "nuid": "a616e12b-7028-41c7-90b0-c3ebda944e55",
     "typedWidgetInfo": {
      "autoCreated": false,
      "defaultValue": "enxpowerbidatalakeqa",
      "label": "The name of the storage account.",
      "name": "StorageAccountName",
      "options": {
       "widgetDisplayType": "Text",
       "validationRegex": null
      },
      "parameterDataType": "String"
     },
     "widgetInfo": {
      "widgetType": "text",
      "defaultValue": "enxpowerbidatalakeqa",
      "label": "The name of the storage account.",
      "name": "StorageAccountName",
      "options": {
       "widgetType": "text",
       "autoCreated": null,
       "validationRegex": null
      }
     }
    }
   }
  },
  "language_info": {
   "name": "python"
  }
 },
 "nbformat": 4,
 "nbformat_minor": 0
}