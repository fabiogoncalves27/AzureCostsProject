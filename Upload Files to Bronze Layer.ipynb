{
 "cells": [
  {
   "cell_type": "markdown",
   "metadata": {
    "application/vnd.databricks.v1+cell": {
     "cellMetadata": {
      "byteLimit": 2048000,
      "rowLimit": 10000
     },
     "inputWidgets": {},
     "nuid": "8c7ff47d-9a2e-4272-809c-72055b464021",
     "showTitle": false,
     "tableResultSettingsMap": {},
     "title": ""
    }
   },
   "source": [
    "# Imports and Variables"
   ]
  },
  {
   "cell_type": "markdown",
   "metadata": {
    "application/vnd.databricks.v1+cell": {
     "cellMetadata": {
      "byteLimit": 2048000,
      "rowLimit": 10000
     },
     "inputWidgets": {},
     "nuid": "b2a6ba2d-0dff-440e-a409-7129920177e6",
     "showTitle": false,
     "tableResultSettingsMap": {},
     "title": ""
    }
   },
   "source": [
    "## Necessary imports"
   ]
  },
  {
   "cell_type": "code",
   "execution_count": 0,
   "metadata": {
    "application/vnd.databricks.v1+cell": {
     "cellMetadata": {
      "byteLimit": 2048000,
      "rowLimit": 10000
     },
     "inputWidgets": {},
     "nuid": "ab7b96ba-eaab-455d-8de2-97ce133f35e3",
     "showTitle": false,
     "tableResultSettingsMap": {},
     "title": ""
    }
   },
   "outputs": [],
   "source": [
    "import json\n",
    "from pyspark.sql import *\n",
    "from pyspark.sql.functions import *\n",
    "from pyspark.sql.functions import explode\n",
    "import pyspark.sql.types as t\n",
    "from pyspark.sql.window import Window\n",
    "from pyspark.sql.types import StructField, StructType, ArrayType, StringType, MapType\n",
    "import datetime"
   ]
  },
  {
   "cell_type": "markdown",
   "metadata": {
    "application/vnd.databricks.v1+cell": {
     "cellMetadata": {
      "byteLimit": 2048000,
      "rowLimit": 10000
     },
     "inputWidgets": {},
     "nuid": "6fc31d54-eb14-4999-8a46-7c27aee0cb00",
     "showTitle": false,
     "tableResultSettingsMap": {},
     "title": ""
    }
   },
   "source": [
    "## Variables"
   ]
  },
  {
   "cell_type": "code",
   "execution_count": 0,
   "metadata": {
    "application/vnd.databricks.v1+cell": {
     "cellMetadata": {
      "byteLimit": 2048000,
      "rowLimit": 10000
     },
     "inputWidgets": {},
     "nuid": "fcb0c1d7-ce1d-4546-b8f3-50d912b0d414",
     "showTitle": false,
     "tableResultSettingsMap": {},
     "title": ""
    }
   },
   "outputs": [],
   "source": [
    "dbutils.widgets.text(\"StorageAccountName\", \"enxpowerbidatalakeqa\", \"The name of the storage account.\")\n",
    "dbutils.widgets.text(\"FileSystemName\", \"costs\", \"The name of the file system within the storage account.\")\n",
    "\n",
    "storageAccountName = dbutils.widgets.get(\"StorageAccountName\");\n",
    "fileSystemName = dbutils.widgets.get(\"FileSystemName\");"
   ]
  },
  {
   "cell_type": "markdown",
   "metadata": {
    "application/vnd.databricks.v1+cell": {
     "cellMetadata": {
      "byteLimit": 2048000,
      "rowLimit": 10000
     },
     "inputWidgets": {},
     "nuid": "b5693d34-1c77-40d9-9ff5-40c88553fe77",
     "showTitle": false,
     "tableResultSettingsMap": {},
     "title": ""
    }
   },
   "source": [
    "#Data Lake Connection"
   ]
  },
  {
   "cell_type": "code",
   "execution_count": 0,
   "metadata": {
    "application/vnd.databricks.v1+cell": {
     "cellMetadata": {
      "byteLimit": 2048000,
      "rowLimit": 10000
     },
     "inputWidgets": {},
     "nuid": "e5345763-81e5-4f6e-8b30-f9327376e8c1",
     "showTitle": false,
     "tableResultSettingsMap": {},
     "title": ""
    }
   },
   "outputs": [
    {
     "output_type": "execute_result",
     "data": {
      "text/plain": [
       "DataFrame[key: string, value: string]"
      ]
     },
     "execution_count": 3,
     "metadata": {},
     "output_type": "execute_result"
    }
   ],
   "source": [
    "# Datalake access configuration\n",
    "accountKey = dbutils.secrets.get(scope = \"dataconnections\", key = \"connectionKey\")\n",
    "spark.conf.set(\"fs.azure.account.key.\" + storageAccountName + \".dfs.core.windows.net\", accountKey)\n",
    "spark.sql(\"set spark.sql.caseSensitive=false\")"
   ]
  },
  {
   "cell_type": "markdown",
   "metadata": {
    "application/vnd.databricks.v1+cell": {
     "cellMetadata": {
      "byteLimit": 2048000,
      "rowLimit": 10000
     },
     "inputWidgets": {},
     "nuid": "10d4c4e0-a05b-4d67-bc81-c41abc7cc07d",
     "showTitle": false,
     "tableResultSettingsMap": {},
     "title": ""
    }
   },
   "source": [
    "# Getting the elements to the extracted from the control table"
   ]
  },
  {
   "cell_type": "code",
   "execution_count": 0,
   "metadata": {
    "application/vnd.databricks.v1+cell": {
     "cellMetadata": {
      "byteLimit": 2048000,
      "rowLimit": 10000
     },
     "inputWidgets": {},
     "nuid": "edc5e904-03c2-429e-a987-aab9fa83cb77",
     "showTitle": false,
     "tableResultSettingsMap": {},
     "title": ""
    }
   },
   "outputs": [
    {
     "output_type": "display_data",
     "data": {
      "text/html": [
       "<style scoped>\n",
       "  .table-result-container {\n",
       "    max-height: 300px;\n",
       "    overflow: auto;\n",
       "  }\n",
       "  table, th, td {\n",
       "    border: 1px solid black;\n",
       "    border-collapse: collapse;\n",
       "  }\n",
       "  th, td {\n",
       "    padding: 5px;\n",
       "  }\n",
       "  th {\n",
       "    text-align: left;\n",
       "  }\n",
       "</style><div class='table-result-container'><table class='table-result'><thead style='background-color: white'><tr><th>TableName</th><th>LastExtractionDate</th><th>Active</th></tr></thead><tbody><tr><td>azure_costs_2</td><td>2025-02-02T01:56:28Z</td><td>true</td></tr></tbody></table></div>"
      ]
     },
     "metadata": {
      "application/vnd.databricks.v1+output": {
       "addedWidgets": {},
       "aggData": [],
       "aggError": "",
       "aggOverflow": false,
       "aggSchema": [],
       "aggSeriesLimitReached": false,
       "aggType": "",
       "arguments": {},
       "columnCustomDisplayInfos": {},
       "data": [
        [
         "azure_costs_2",
         "2025-02-02T01:56:28Z",
         true
        ]
       ],
       "datasetInfos": [],
       "dbfsResultPath": null,
       "isJsonSchema": true,
       "metadata": {},
       "overflow": false,
       "plotOptions": {
        "customPlotOptions": {},
        "displayType": "table",
        "pivotAggregation": null,
        "pivotColumns": null,
        "xColumns": null,
        "yColumns": null
       },
       "removedWidgets": [],
       "schema": [
        {
         "metadata": "{}",
         "name": "TableName",
         "type": "\"string\""
        },
        {
         "metadata": "{}",
         "name": "LastExtractionDate",
         "type": "\"timestamp\""
        },
        {
         "metadata": "{}",
         "name": "Active",
         "type": "\"boolean\""
        }
       ],
       "type": "table"
      }
     },
     "output_type": "display_data"
    }
   ],
   "source": [
    "tables_to_extract = spark.sql(\"SELECT TableName, LastExtractionDate, Active FROM control.integrationcontrolcosts WHERE Bronze = 1 and Active=1 ORDER BY TableName ASC\").cache()\n",
    "display(tables_to_extract)"
   ]
  },
  {
   "cell_type": "markdown",
   "metadata": {
    "application/vnd.databricks.v1+cell": {
     "cellMetadata": {
      "byteLimit": 2048000,
      "rowLimit": 10000
     },
     "inputWidgets": {},
     "nuid": "63ca0d6d-5ad5-43e0-8d81-5c605a982e20",
     "showTitle": false,
     "tableResultSettingsMap": {},
     "title": ""
    }
   },
   "source": [
    "# Copy the Target Files from the Data Lake to the Delta Lake"
   ]
  },
  {
   "cell_type": "code",
   "execution_count": 0,
   "metadata": {
    "application/vnd.databricks.v1+cell": {
     "cellMetadata": {
      "byteLimit": 2048000,
      "rowLimit": 10000
     },
     "inputWidgets": {},
     "nuid": "e6db9c52-c24b-4fdb-af7f-2c4237a7095e",
     "showTitle": false,
     "tableResultSettingsMap": {},
     "title": ""
    }
   },
   "outputs": [],
   "source": [
    "for table in tables_to_extract.collect():\n",
    "    # Copy file\n",
    "    spark.sql(f\"\"\"\n",
    "    COPY INTO delta.`dbfs:/Bronze/{table['TableName']}` \n",
    "    FROM (\n",
    "        SELECT *, \n",
    "               _metadata.file_path AS FilePath, \n",
    "               _metadata.file_modification_time AS LastExtractionDate,  \n",
    "               SUBSTRING(SPLIT(FilePath, '/', 7)[5], 1, 6) AS LastExtractionMonth\n",
    "        FROM 'abfss://{fileSystemName}@{storageAccountName}.dfs.core.windows.net/powerbi-costs'\n",
    "    ) \n",
    "    FILEFORMAT = CSV \n",
    "    FORMAT_OPTIONS (\n",
    "        'recursiveFileLookup' = 'true', \n",
    "        'mergeSchema' = 'true', \n",
    "        'delimiter' = ',', \n",
    "        'escape' = '\"', \n",
    "        'header' = 'true'\n",
    "    ) \n",
    "    COPY_OPTIONS ('mergeSchema' = 'true')\n",
    "    \"\"\")\n",
    "    \n",
    "    # Creates table from it\n",
    "    spark.sql(f\"CREATE TABLE IF NOT EXISTS bronze.{table['TableName']} USING DELTA LOCATION 'dbfs:/Bronze/{table['TableName']}'\")"
   ]
  },
  {
   "cell_type": "code",
   "execution_count": 0,
   "metadata": {
    "application/vnd.databricks.v1+cell": {
     "cellMetadata": {
      "byteLimit": 2048000,
      "implicitDf": true,
      "rowLimit": 10000
     },
     "inputWidgets": {},
     "nuid": "57f5fbbc-f03a-45c5-93d1-4e37339852aa",
     "showTitle": false,
     "tableResultSettingsMap": {},
     "title": ""
    }
   },
   "outputs": [],
   "source": [
    "%sql\n",
    "--drop table bronze.azure_costs_2"
   ]
  },
  {
   "cell_type": "code",
   "execution_count": 0,
   "metadata": {
    "application/vnd.databricks.v1+cell": {
     "cellMetadata": {
      "byteLimit": 2048000,
      "rowLimit": 10000
     },
     "inputWidgets": {},
     "nuid": "d0a77d48-b864-4f33-9a42-972ca4fb8d35",
     "showTitle": false,
     "tableResultSettingsMap": {},
     "title": ""
    }
   },
   "outputs": [],
   "source": [
    "#dbutils.fs.rm('dbfs:/Bronze/azure_costs_2',recurse=True)"
   ]
  }
 ],
 "metadata": {
  "application/vnd.databricks.v1+notebook": {
   "computePreferences": null,
   "dashboards": [],
   "environmentMetadata": {
    "base_environment": "",
    "environment_version": "1"
   },
   "language": "python",
   "notebookMetadata": {
    "mostRecentlyExecutedCommandWithImplicitDF": {
     "commandId": 6382601381293390,
     "dataframes": [
      "_sqldf"
     ]
    },
    "pythonIndentUnit": 4
   },
   "notebookName": "Upload Files to Bronze Layer",
   "widgets": {
    "FileSystemName": {
     "currentValue": "costs",
     "nuid": "25276aae-dd1f-4c91-8bd6-28f763e3e50e",
     "typedWidgetInfo": {
      "autoCreated": false,
      "defaultValue": "costs",
      "label": "The name of the file system within the storage account.",
      "name": "FileSystemName",
      "options": {
       "widgetDisplayType": "Text",
       "validationRegex": null
      },
      "parameterDataType": "String"
     },
     "widgetInfo": {
      "widgetType": "text",
      "defaultValue": "costs",
      "label": "The name of the file system within the storage account.",
      "name": "FileSystemName",
      "options": {
       "widgetType": "text",
       "autoCreated": null,
       "validationRegex": null
      }
     }
    },
    "StorageAccountName": {
     "currentValue": "enxpowerbidatalakeqa",
     "nuid": "a616e12b-7028-41c7-90b0-c3ebda944e55",
     "typedWidgetInfo": {
      "autoCreated": false,
      "defaultValue": "enxpowerbidatalakeqa",
      "label": "The name of the storage account.",
      "name": "StorageAccountName",
      "options": {
       "widgetDisplayType": "Text",
       "validationRegex": null
      },
      "parameterDataType": "String"
     },
     "widgetInfo": {
      "widgetType": "text",
      "defaultValue": "enxpowerbidatalakeqa",
      "label": "The name of the storage account.",
      "name": "StorageAccountName",
      "options": {
       "widgetType": "text",
       "autoCreated": null,
       "validationRegex": null
      }
     }
    }
   }
  },
  "language_info": {
   "name": "python"
  }
 },
 "nbformat": 4,
 "nbformat_minor": 0
}